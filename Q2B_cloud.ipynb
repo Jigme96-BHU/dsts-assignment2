{
 "cells": [
  {
   "cell_type": "code",
   "execution_count": 32,
   "id": "5571da08",
   "metadata": {},
   "outputs": [],
   "source": [
    "import pandas as pd\n",
    "import numpy as np\n",
    "import matplotlib.pyplot as plt"
   ]
  },
  {
   "cell_type": "code",
   "execution_count": 2,
   "id": "0793cab3",
   "metadata": {},
   "outputs": [
    {
     "data": {
      "text/html": [
       "<div>\n",
       "<style scoped>\n",
       "    .dataframe tbody tr th:only-of-type {\n",
       "        vertical-align: middle;\n",
       "    }\n",
       "\n",
       "    .dataframe tbody tr th {\n",
       "        vertical-align: top;\n",
       "    }\n",
       "\n",
       "    .dataframe thead th {\n",
       "        text-align: right;\n",
       "    }\n",
       "</style>\n",
       "<table border=\"1\" class=\"dataframe\">\n",
       "  <thead>\n",
       "    <tr style=\"text-align: right;\">\n",
       "      <th></th>\n",
       "      <th>target</th>\n",
       "      <th>Distance</th>\n",
       "      <th>DepHourofDay</th>\n",
       "      <th>AWND_O</th>\n",
       "      <th>AWND_O.1</th>\n",
       "      <th>AWND_O.2</th>\n",
       "      <th>AWND_O.3</th>\n",
       "      <th>AWND_O.4</th>\n",
       "      <th>AWND_O.5</th>\n",
       "      <th>PRCP_O</th>\n",
       "      <th>...</th>\n",
       "      <th>Origin_SFO</th>\n",
       "      <th>Dest_CLT</th>\n",
       "      <th>Dest_DEN</th>\n",
       "      <th>Dest_DFW</th>\n",
       "      <th>Dest_IAH</th>\n",
       "      <th>Dest_LAX</th>\n",
       "      <th>Dest_ORD</th>\n",
       "      <th>Dest_PHX</th>\n",
       "      <th>Dest_SFO</th>\n",
       "      <th>is_holiday_True</th>\n",
       "    </tr>\n",
       "  </thead>\n",
       "  <tbody>\n",
       "    <tr>\n",
       "      <th>0</th>\n",
       "      <td>0.0</td>\n",
       "      <td>1464.0</td>\n",
       "      <td>7</td>\n",
       "      <td>57</td>\n",
       "      <td>57</td>\n",
       "      <td>57</td>\n",
       "      <td>57</td>\n",
       "      <td>57</td>\n",
       "      <td>57</td>\n",
       "      <td>0</td>\n",
       "      <td>...</td>\n",
       "      <td>False</td>\n",
       "      <td>False</td>\n",
       "      <td>False</td>\n",
       "      <td>False</td>\n",
       "      <td>False</td>\n",
       "      <td>False</td>\n",
       "      <td>False</td>\n",
       "      <td>False</td>\n",
       "      <td>True</td>\n",
       "      <td>False</td>\n",
       "    </tr>\n",
       "    <tr>\n",
       "      <th>1</th>\n",
       "      <td>0.0</td>\n",
       "      <td>1464.0</td>\n",
       "      <td>7</td>\n",
       "      <td>49</td>\n",
       "      <td>49</td>\n",
       "      <td>49</td>\n",
       "      <td>49</td>\n",
       "      <td>49</td>\n",
       "      <td>49</td>\n",
       "      <td>0</td>\n",
       "      <td>...</td>\n",
       "      <td>False</td>\n",
       "      <td>False</td>\n",
       "      <td>False</td>\n",
       "      <td>False</td>\n",
       "      <td>False</td>\n",
       "      <td>False</td>\n",
       "      <td>False</td>\n",
       "      <td>False</td>\n",
       "      <td>True</td>\n",
       "      <td>False</td>\n",
       "    </tr>\n",
       "    <tr>\n",
       "      <th>2</th>\n",
       "      <td>0.0</td>\n",
       "      <td>1464.0</td>\n",
       "      <td>7</td>\n",
       "      <td>29</td>\n",
       "      <td>29</td>\n",
       "      <td>29</td>\n",
       "      <td>29</td>\n",
       "      <td>29</td>\n",
       "      <td>29</td>\n",
       "      <td>0</td>\n",
       "      <td>...</td>\n",
       "      <td>False</td>\n",
       "      <td>False</td>\n",
       "      <td>False</td>\n",
       "      <td>False</td>\n",
       "      <td>False</td>\n",
       "      <td>False</td>\n",
       "      <td>False</td>\n",
       "      <td>False</td>\n",
       "      <td>True</td>\n",
       "      <td>False</td>\n",
       "    </tr>\n",
       "  </tbody>\n",
       "</table>\n",
       "<p>3 rows × 126 columns</p>\n",
       "</div>"
      ],
      "text/plain": [
       "   target  Distance  DepHourofDay  AWND_O  AWND_O.1  AWND_O.2  AWND_O.3  \\\n",
       "0     0.0    1464.0             7      57        57        57        57   \n",
       "1     0.0    1464.0             7      49        49        49        49   \n",
       "2     0.0    1464.0             7      29        29        29        29   \n",
       "\n",
       "   AWND_O.4  AWND_O.5  PRCP_O  ...  Origin_SFO  Dest_CLT  Dest_DEN  Dest_DFW  \\\n",
       "0        57        57       0  ...       False     False     False     False   \n",
       "1        49        49       0  ...       False     False     False     False   \n",
       "2        29        29       0  ...       False     False     False     False   \n",
       "\n",
       "   Dest_IAH  Dest_LAX  Dest_ORD  Dest_PHX  Dest_SFO  is_holiday_True  \n",
       "0     False     False     False     False      True            False  \n",
       "1     False     False     False     False      True            False  \n",
       "2     False     False     False     False      True            False  \n",
       "\n",
       "[3 rows x 126 columns]"
      ]
     },
     "execution_count": 2,
     "metadata": {},
     "output_type": "execute_result"
    }
   ],
   "source": [
    "df = pd.read_csv(\"data/combined_csv_v2.csv\")\n",
    "df.head(3)"
   ]
  },
  {
   "cell_type": "code",
   "execution_count": 3,
   "id": "20eb56bc",
   "metadata": {},
   "outputs": [],
   "source": [
    "# Convert boolean columns to 0 and 1\n",
    "for col in df.columns:\n",
    "    if df[col].dtype == 'bool':\n",
    "        df[col] = df[col].astype(float)  # Converting True to 1 and False to 0"
   ]
  },
  {
   "cell_type": "code",
   "execution_count": 4,
   "id": "6a0ff3ce",
   "metadata": {},
   "outputs": [],
   "source": [
    "# Convert boolean columns to 0 and 1\n",
    "for col in df.columns:\n",
    "    if df[col].dtype == 'int64':\n",
    "        df[col] = df[col].astype(float)  # Converting True to 1 and False to 0"
   ]
  },
  {
   "cell_type": "code",
   "execution_count": 5,
   "id": "2e39697f",
   "metadata": {},
   "outputs": [],
   "source": [
    "from sklearn.model_selection import train_test_split\n",
    "\n",
    "\n",
    "train, validation = train_test_split(df, test_size=0.3)\n",
    "validation, test = train_test_split(validation, test_size = 0.5)"
   ]
  },
  {
   "cell_type": "code",
   "execution_count": 6,
   "id": "722d6b20",
   "metadata": {},
   "outputs": [],
   "source": [
    "train.to_csv(\"data/q2b/train.csv\", index = False, header = False)\n",
    "validation.to_csv(\"data/q2b/validation.csv\", index = False, header = False)\n",
    "test.to_csv(\"data/q2b/test.csv\", index = False, header = False)"
   ]
  },
  {
   "cell_type": "code",
   "execution_count": 7,
   "id": "04bc0512",
   "metadata": {},
   "outputs": [],
   "source": [
    "test_X =  test.drop(\"target\", axis = 1)\n",
    "test_y = test[\"target\"]\n",
    "test_X.to_csv(\"data/q2b/test.csv\", index = False, header = False)"
   ]
  },
  {
   "cell_type": "code",
   "execution_count": 8,
   "id": "9c2f3d55",
   "metadata": {},
   "outputs": [
    {
     "name": "stdout",
     "output_type": "stream",
     "text": [
      "sagemaker.config INFO - Not applying SDK defaults from location: /etc/xdg/sagemaker/config.yaml\n",
      "sagemaker.config INFO - Not applying SDK defaults from location: /home/ec2-user/.config/sagemaker/config.yaml\n"
     ]
    }
   ],
   "source": [
    "import sagemaker\n",
    "import boto3\n",
    "from sagemaker import image_uris\n",
    "\n",
    "\n",
    "sess = sagemaker.Session()\n",
    "bucket = sess.default_bucket()\n",
    "\n",
    "\n",
    "region = boto3.Session().region_name\n",
    "container = image_uris.retrieve('xgboost', region,version='latest')"
   ]
  },
  {
   "cell_type": "code",
   "execution_count": 10,
   "id": "f4432f0a",
   "metadata": {},
   "outputs": [],
   "source": [
    "prefix = \"final_assignment/q2b\"\n",
    "train_path = sess.upload_data(path=\"./data/q2b/train.csv\", key_prefix=prefix + \"/input/training\")\n",
    "valid_path = sess.upload_data(path=\"./data/q2b/validation.csv\", key_prefix=prefix + \"/input/validation\")\n",
    "test_X_path = sess.upload_data(path=\"./data/q2b/test.csv\", key_prefix=prefix + \"/input/test\")"
   ]
  },
  {
   "cell_type": "code",
   "execution_count": 11,
   "id": "5158ad27",
   "metadata": {},
   "outputs": [],
   "source": [
    "from sagemaker.estimator import Estimator\n",
    "\n",
    "\n",
    "xgb_estimator = Estimator(container,\n",
    "                          role=sagemaker.get_execution_role(),\n",
    "                          instance_count=1,\n",
    "                          instance_type='ml.m4.xlarge',\n",
    "                          output_path='s3://{}/{}/output'.format(bucket,prefix))"
   ]
  },
  {
   "cell_type": "code",
   "execution_count": 12,
   "id": "cd86dcf8",
   "metadata": {},
   "outputs": [],
   "source": [
    "xgb_estimator.set_hyperparameters(objective='binary:logistic', num_round=15)\n"
   ]
  },
  {
   "cell_type": "code",
   "execution_count": 13,
   "id": "50dafab7",
   "metadata": {},
   "outputs": [],
   "source": [
    "training_data_channel = sagemaker.TrainingInput(s3_data=train_path, content_type='text/csv')\n",
    "validation_data_channel = sagemaker.TrainingInput(s3_data=valid_path, content_type='text/csv')"
   ]
  },
  {
   "cell_type": "code",
   "execution_count": 14,
   "id": "f4ba0fd4",
   "metadata": {},
   "outputs": [
    {
     "name": "stderr",
     "output_type": "stream",
     "text": [
      "INFO:sagemaker:Creating training-job with name: xgboost-2024-11-03-03-47-30-300\n"
     ]
    },
    {
     "name": "stdout",
     "output_type": "stream",
     "text": [
      "2024-11-03 03:47:30 Starting - Starting the training job......\n",
      "2024-11-03 03:48:32 Downloading - Downloading input data......\n",
      "2024-11-03 03:49:22 Downloading - Downloading the training image.....\u001b[34mArguments: train\u001b[0m\n",
      "\u001b[34m[2024-11-03:03:50:19:INFO] Running standalone xgboost training.\u001b[0m\n",
      "\u001b[34m[2024-11-03:03:50:19:INFO] File size need to be processed in the node: 1143.11mb. Available memory size in the node: 8445.11mb\u001b[0m\n",
      "\u001b[34m[2024-11-03:03:50:19:INFO] Determined delimiter of CSV input is ','\u001b[0m\n",
      "\u001b[34m[03:50:19] S3DistributionType set as FullyReplicated\u001b[0m\n",
      "\n",
      "2024-11-03 03:50:07 Training - Training image download completed. Training in progress.\u001b[34m[03:50:25] 1809161x125 matrix with 226145125 entries loaded from /opt/ml/input/data/train?format=csv&label_column=0&delimiter=,\u001b[0m\n",
      "\u001b[34m[2024-11-03:03:50:25:INFO] Determined delimiter of CSV input is ','\u001b[0m\n",
      "\u001b[34m[03:50:25] S3DistributionType set as FullyReplicated\u001b[0m\n",
      "\u001b[34m[03:50:26] 387677x125 matrix with 48459625 entries loaded from /opt/ml/input/data/validation?format=csv&label_column=0&delimiter=,\u001b[0m\n",
      "\u001b[34m[03:50:38] src/tree/updater_prune.cc:74: tree pruning end, 1 roots, 126 extra nodes, 0 pruned nodes, max_depth=6\u001b[0m\n",
      "\u001b[34m[0]#011train-error:0.380517#011validation-error:0.381088\u001b[0m\n",
      "\u001b[34m[03:50:43] src/tree/updater_prune.cc:74: tree pruning end, 1 roots, 126 extra nodes, 0 pruned nodes, max_depth=6\u001b[0m\n",
      "\u001b[34m[1]#011train-error:0.373491#011validation-error:0.37449\u001b[0m\n",
      "\u001b[34m[03:50:49] src/tree/updater_prune.cc:74: tree pruning end, 1 roots, 126 extra nodes, 0 pruned nodes, max_depth=6\u001b[0m\n",
      "\u001b[34m[2]#011train-error:0.370032#011validation-error:0.370213\u001b[0m\n",
      "\u001b[34m[03:50:54] src/tree/updater_prune.cc:74: tree pruning end, 1 roots, 126 extra nodes, 0 pruned nodes, max_depth=6\u001b[0m\n",
      "\u001b[34m[3]#011train-error:0.366371#011validation-error:0.366019\u001b[0m\n",
      "\u001b[34m[03:50:59] src/tree/updater_prune.cc:74: tree pruning end, 1 roots, 120 extra nodes, 0 pruned nodes, max_depth=6\u001b[0m\n",
      "\u001b[34m[4]#011train-error:0.362753#011validation-error:0.363661\u001b[0m\n",
      "\u001b[34m[03:51:05] src/tree/updater_prune.cc:74: tree pruning end, 1 roots, 124 extra nodes, 0 pruned nodes, max_depth=6\u001b[0m\n",
      "\u001b[34m[5]#011train-error:0.358839#011validation-error:0.359614\u001b[0m\n",
      "\u001b[34m[03:51:10] src/tree/updater_prune.cc:74: tree pruning end, 1 roots, 126 extra nodes, 0 pruned nodes, max_depth=6\u001b[0m\n",
      "\u001b[34m[6]#011train-error:0.358163#011validation-error:0.358737\u001b[0m\n",
      "\u001b[34m[03:51:16] src/tree/updater_prune.cc:74: tree pruning end, 1 roots, 126 extra nodes, 0 pruned nodes, max_depth=6\u001b[0m\n",
      "\u001b[34m[7]#011train-error:0.355716#011validation-error:0.355982\u001b[0m\n",
      "\u001b[34m[03:51:21] src/tree/updater_prune.cc:74: tree pruning end, 1 roots, 126 extra nodes, 0 pruned nodes, max_depth=6\u001b[0m\n",
      "\u001b[34m[8]#011train-error:0.353875#011validation-error:0.354078\u001b[0m\n",
      "\u001b[34m[03:51:26] src/tree/updater_prune.cc:74: tree pruning end, 1 roots, 122 extra nodes, 0 pruned nodes, max_depth=6\u001b[0m\n",
      "\u001b[34m[9]#011train-error:0.3522#011validation-error:0.352456\u001b[0m\n",
      "\u001b[34m[03:51:31] src/tree/updater_prune.cc:74: tree pruning end, 1 roots, 120 extra nodes, 0 pruned nodes, max_depth=6\u001b[0m\n",
      "\u001b[34m[10]#011train-error:0.350519#011validation-error:0.350924\u001b[0m\n",
      "\u001b[34m[03:51:37] src/tree/updater_prune.cc:74: tree pruning end, 1 roots, 126 extra nodes, 0 pruned nodes, max_depth=6\u001b[0m\n",
      "\u001b[34m[11]#011train-error:0.349369#011validation-error:0.349397\u001b[0m\n",
      "\u001b[34m[03:51:42] src/tree/updater_prune.cc:74: tree pruning end, 1 roots, 126 extra nodes, 0 pruned nodes, max_depth=6\u001b[0m\n",
      "\u001b[34m[12]#011train-error:0.347931#011validation-error:0.348267\u001b[0m\n",
      "\u001b[34m[03:51:48] src/tree/updater_prune.cc:74: tree pruning end, 1 roots, 126 extra nodes, 0 pruned nodes, max_depth=6\u001b[0m\n",
      "\u001b[34m[13]#011train-error:0.346228#011validation-error:0.346631\u001b[0m\n",
      "\n",
      "2024-11-03 03:51:58 Uploading - Uploading generated training model\u001b[34m[03:51:53] src/tree/updater_prune.cc:74: tree pruning end, 1 roots, 122 extra nodes, 0 pruned nodes, max_depth=6\u001b[0m\n",
      "\u001b[34m[14]#011train-error:0.345664#011validation-error:0.345935\u001b[0m\n",
      "\n",
      "2024-11-03 03:52:11 Completed - Training job completed\n",
      "Training seconds: 220\n",
      "Billable seconds: 220\n"
     ]
    }
   ],
   "source": [
    "xgb_estimator.fit({'train': training_data_channel,'validation': validation_data_channel})\n"
   ]
  },
  {
   "cell_type": "code",
   "execution_count": 15,
   "id": "1c30a135",
   "metadata": {},
   "outputs": [
    {
     "name": "stderr",
     "output_type": "stream",
     "text": [
      "INFO:sagemaker:Creating model with name: xgboost-2024-11-03-03-53-03-723\n",
      "INFO:sagemaker:Creating endpoint-config with name xgboost-2024-11-03-03-53-03-723\n",
      "INFO:sagemaker:Creating endpoint with name xgboost-2024-11-03-03-53-03-723\n"
     ]
    },
    {
     "name": "stdout",
     "output_type": "stream",
     "text": [
      "------!"
     ]
    }
   ],
   "source": [
    "xgb_predictor = xgb_estimator.deploy(initial_instance_count=1,\n",
    "                serializer = sagemaker.serializers.CSVSerializer(),\n",
    "                instance_type='ml.m4.xlarge')"
   ]
  },
  {
   "cell_type": "code",
   "execution_count": 16,
   "id": "a52b3296",
   "metadata": {},
   "outputs": [
    {
     "data": {
      "text/plain": [
       "(387678, 126)"
      ]
     },
     "execution_count": 16,
     "metadata": {},
     "output_type": "execute_result"
    }
   ],
   "source": [
    "test.shape"
   ]
  },
  {
   "cell_type": "code",
   "execution_count": 17,
   "id": "b4dd5f3b",
   "metadata": {},
   "outputs": [
    {
     "name": "stderr",
     "output_type": "stream",
     "text": [
      "INFO:sagemaker:Creating model with name: xgboost-2024-11-03-03-56-46-862\n"
     ]
    }
   ],
   "source": [
    "\n",
    "xgb_transformer = xgb_estimator.transformer(\n",
    "    instance_count=1,\n",
    "    instance_type=\"ml.m4.xlarge\",\n",
    "    strategy=\"MultiRecord\",\n",
    "    assemble_with=\"Line\",\n",
    "    output_path=f\"s3://{bucket}/{prefix}/batch_output\"\n",
    ")"
   ]
  },
  {
   "cell_type": "code",
   "execution_count": 18,
   "id": "446875b5",
   "metadata": {},
   "outputs": [
    {
     "name": "stderr",
     "output_type": "stream",
     "text": [
      "INFO:sagemaker:Creating transform job with name: xgboost-2024-11-03-03-56-48-332\n"
     ]
    },
    {
     "name": "stdout",
     "output_type": "stream",
     "text": [
      "...................................\u001b[34mArguments: serve\u001b[0m\n",
      "\u001b[34m[2024-11-03 04:02:39 +0000] [1] [INFO] Starting gunicorn 19.9.0\u001b[0m\n",
      "\u001b[34m[2024-11-03 04:02:39 +0000] [1] [INFO] Listening at: http://0.0.0.0:8080 (1)\u001b[0m\n",
      "\u001b[34m[2024-11-03 04:02:39 +0000] [1] [INFO] Using worker: gevent\u001b[0m\n",
      "\u001b[34m[2024-11-03 04:02:39 +0000] [21] [INFO] Booting worker with pid: 21\u001b[0m\n",
      "\u001b[34m[2024-11-03 04:02:39 +0000] [22] [INFO] Booting worker with pid: 22\u001b[0m\n",
      "\u001b[34m[2024-11-03 04:02:39 +0000] [23] [INFO] Booting worker with pid: 23\u001b[0m\n",
      "\u001b[34m/opt/amazon/lib/python3.7/site-packages/gunicorn/workers/ggevent.py:65: MonkeyPatchWarning: Monkey-patching ssl after ssl has already been imported may lead to errors, including RecursionError on Python 3.6. It may also silently lead to incorrect behaviour on Python 3.7. Please monkey-patch earlier. See https://github.com/gevent/gevent/issues/1016. Modules that had direct imports (NOT patched): ['urllib3.util (/opt/amazon/lib/python3.7/site-packages/urllib3/util/__init__.py)', 'urllib3.util.ssl_ (/opt/amazon/lib/python3.7/site-packages/urllib3/util/ssl_.py)']. \n",
      "  monkey.patch_all(subprocess=True)\u001b[0m\n",
      "\u001b[34m/opt/amazon/lib/python3.7/site-packages/gunicorn/workers/ggevent.py:65: MonkeyPatchWarning: Monkey-patching ssl after ssl has already been imported may lead to errors, including RecursionError on Python 3.6. It may also silently lead to incorrect behaviour on Python 3.7. Please monkey-patch earlier. See https://github.com/gevent/gevent/issues/1016. Modules that had direct imports (NOT patched): ['urllib3.util (/opt/amazon/lib/python3.7/site-packages/urllib3/util/__init__.py)', 'urllib3.util.ssl_ (/opt/amazon/lib/python3.7/site-packages/urllib3/util/ssl_.py)']. \n",
      "  monkey.patch_all(subprocess=True)\u001b[0m\n",
      "\u001b[34m[2024-11-03:04:02:39:INFO] Model loaded successfully for worker : 21\u001b[0m\n",
      "\u001b[34m[2024-11-03:04:02:39:INFO] Model loaded successfully for worker : 22\u001b[0m\n",
      "\u001b[34m[2024-11-03 04:02:39 +0000] [24] [INFO] Booting worker with pid: 24\u001b[0m\n",
      "\u001b[34m/opt/amazon/lib/python3.7/site-packages/gunicorn/workers/ggevent.py:65: MonkeyPatchWarning: Monkey-patching ssl after ssl has already been imported may lead to errors, including RecursionError on Python 3.6. It may also silently lead to incorrect behaviour on Python 3.7. Please monkey-patch earlier. See https://github.com/gevent/gevent/issues/1016. Modules that had direct imports (NOT patched): ['urllib3.util (/opt/amazon/lib/python3.7/site-packages/urllib3/util/__init__.py)', 'urllib3.util.ssl_ (/opt/amazon/lib/python3.7/site-packages/urllib3/util/ssl_.py)']. \n",
      "  monkey.patch_all(subprocess=True)\u001b[0m\n",
      "\u001b[34m[2024-11-03:04:02:39:INFO] Model loaded successfully for worker : 23\u001b[0m\n",
      "\u001b[34m/opt/amazon/lib/python3.7/site-packages/gunicorn/workers/ggevent.py:65: MonkeyPatchWarning: Monkey-patching ssl after ssl has already been imported may lead to errors, including RecursionError on Python 3.6. It may also silently lead to incorrect behaviour on Python 3.7. Please monkey-patch earlier. See https://github.com/gevent/gevent/issues/1016. Modules that had direct imports (NOT patched): ['urllib3.util (/opt/amazon/lib/python3.7/site-packages/urllib3/util/__init__.py)', 'urllib3.util.ssl_ (/opt/amazon/lib/python3.7/site-packages/urllib3/util/ssl_.py)']. \n",
      "  monkey.patch_all(subprocess=True)\u001b[0m\n",
      "\u001b[34m[2024-11-03:04:02:39:INFO] Model loaded successfully for worker : 24\u001b[0m\n",
      "\u001b[34m[2024-11-03:04:02:45:INFO] Sniff delimiter as ','\u001b[0m\n",
      "\u001b[34m[2024-11-03:04:02:45:INFO] Determined delimiter of CSV input is ','\u001b[0m\n",
      "\u001b[34m[2024-11-03:04:02:46:INFO] Sniff delimiter as ','\u001b[0m\n",
      "\u001b[34m[2024-11-03:04:02:46:INFO] Determined delimiter of CSV input is ','\u001b[0m\n",
      "\u001b[34m[2024-11-03:04:02:46:INFO] Sniff delimiter as ','\u001b[0m\n",
      "\u001b[34m[2024-11-03:04:02:46:INFO] Determined delimiter of CSV input is ','\u001b[0m\n",
      "\u001b[34m[2024-11-03:04:02:46:INFO] Sniff delimiter as ','\u001b[0m\n",
      "\u001b[35m[2024-11-03:04:02:45:INFO] Sniff delimiter as ','\u001b[0m\n",
      "\u001b[35m[2024-11-03:04:02:45:INFO] Determined delimiter of CSV input is ','\u001b[0m\n",
      "\u001b[35m[2024-11-03:04:02:46:INFO] Sniff delimiter as ','\u001b[0m\n",
      "\u001b[35m[2024-11-03:04:02:46:INFO] Determined delimiter of CSV input is ','\u001b[0m\n",
      "\u001b[35m[2024-11-03:04:02:46:INFO] Sniff delimiter as ','\u001b[0m\n",
      "\u001b[35m[2024-11-03:04:02:46:INFO] Determined delimiter of CSV input is ','\u001b[0m\n",
      "\u001b[35m[2024-11-03:04:02:46:INFO] Sniff delimiter as ','\u001b[0m\n",
      "\u001b[34m[2024-11-03:04:02:46:INFO] Determined delimiter of CSV input is ','\u001b[0m\n",
      "\u001b[35m[2024-11-03:04:02:46:INFO] Determined delimiter of CSV input is ','\u001b[0m\n",
      "\u001b[32m2024-11-03T04:02:42.876:[sagemaker logs]: MaxConcurrentTransforms=4, MaxPayloadInMB=6, BatchStrategy=MULTI_RECORD\u001b[0m\n",
      "\u001b[34m[2024-11-03:04:02:48:INFO] Sniff delimiter as ','\u001b[0m\n",
      "\u001b[35m[2024-11-03:04:02:48:INFO] Sniff delimiter as ','\u001b[0m\n",
      "\u001b[34m[2024-11-03:04:02:48:INFO] Determined delimiter of CSV input is ','\u001b[0m\n",
      "\u001b[34m[2024-11-03:04:02:48:INFO] Sniff delimiter as ','\u001b[0m\n",
      "\u001b[34m[2024-11-03:04:02:48:INFO] Determined delimiter of CSV input is ','\u001b[0m\n",
      "\u001b[35m[2024-11-03:04:02:48:INFO] Determined delimiter of CSV input is ','\u001b[0m\n",
      "\u001b[35m[2024-11-03:04:02:48:INFO] Sniff delimiter as ','\u001b[0m\n",
      "\u001b[35m[2024-11-03:04:02:48:INFO] Determined delimiter of CSV input is ','\u001b[0m\n",
      "\u001b[34m[2024-11-03:04:02:48:INFO] Sniff delimiter as ','\u001b[0m\n",
      "\u001b[34m[2024-11-03:04:02:48:INFO] Determined delimiter of CSV input is ','\u001b[0m\n",
      "\u001b[34m[2024-11-03:04:02:48:INFO] Sniff delimiter as ','\u001b[0m\n",
      "\u001b[34m[2024-11-03:04:02:48:INFO] Determined delimiter of CSV input is ','\u001b[0m\n",
      "\u001b[35m[2024-11-03:04:02:48:INFO] Sniff delimiter as ','\u001b[0m\n",
      "\u001b[35m[2024-11-03:04:02:48:INFO] Determined delimiter of CSV input is ','\u001b[0m\n",
      "\u001b[35m[2024-11-03:04:02:48:INFO] Sniff delimiter as ','\u001b[0m\n",
      "\u001b[35m[2024-11-03:04:02:48:INFO] Determined delimiter of CSV input is ','\u001b[0m\n",
      "\u001b[34m[2024-11-03:04:02:50:INFO] Sniff delimiter as ','\u001b[0m\n",
      "\u001b[34m[2024-11-03:04:02:50:INFO] Determined delimiter of CSV input is ','\u001b[0m\n",
      "\u001b[34m[2024-11-03:04:02:50:INFO] Sniff delimiter as ','\u001b[0m\n",
      "\u001b[34m[2024-11-03:04:02:50:INFO] Determined delimiter of CSV input is ','\u001b[0m\n",
      "\u001b[34m[2024-11-03:04:02:50:INFO] Sniff delimiter as ','\u001b[0m\n",
      "\u001b[34m[2024-11-03:04:02:50:INFO] Determined delimiter of CSV input is ','\u001b[0m\n",
      "\u001b[34m[2024-11-03:04:02:51:INFO] Sniff delimiter as ','\u001b[0m\n",
      "\u001b[34m[2024-11-03:04:02:51:INFO] Determined delimiter of CSV input is ','\u001b[0m\n",
      "\u001b[35m[2024-11-03:04:02:50:INFO] Sniff delimiter as ','\u001b[0m\n",
      "\u001b[35m[2024-11-03:04:02:50:INFO] Determined delimiter of CSV input is ','\u001b[0m\n",
      "\u001b[35m[2024-11-03:04:02:50:INFO] Sniff delimiter as ','\u001b[0m\n",
      "\u001b[35m[2024-11-03:04:02:50:INFO] Determined delimiter of CSV input is ','\u001b[0m\n",
      "\u001b[35m[2024-11-03:04:02:50:INFO] Sniff delimiter as ','\u001b[0m\n",
      "\u001b[35m[2024-11-03:04:02:50:INFO] Determined delimiter of CSV input is ','\u001b[0m\n",
      "\u001b[35m[2024-11-03:04:02:51:INFO] Sniff delimiter as ','\u001b[0m\n",
      "\u001b[35m[2024-11-03:04:02:51:INFO] Determined delimiter of CSV input is ','\u001b[0m\n",
      "\u001b[34m[2024-11-03:04:02:53:INFO] Sniff delimiter as ','\u001b[0m\n",
      "\u001b[34m[2024-11-03:04:02:53:INFO] Determined delimiter of CSV input is ','\u001b[0m\n",
      "\u001b[34m[2024-11-03:04:02:53:INFO] Sniff delimiter as ','\u001b[0m\n",
      "\u001b[34m[2024-11-03:04:02:53:INFO] Determined delimiter of CSV input is ','\u001b[0m\n",
      "\u001b[34m[2024-11-03:04:02:53:INFO] Sniff delimiter as ','\u001b[0m\n",
      "\u001b[34m[2024-11-03:04:02:53:INFO] Determined delimiter of CSV input is ','\u001b[0m\n",
      "\u001b[34m[2024-11-03:04:02:53:INFO] Sniff delimiter as ','\u001b[0m\n",
      "\u001b[34m[2024-11-03:04:02:53:INFO] Determined delimiter of CSV input is ','\u001b[0m\n",
      "\u001b[35m[2024-11-03:04:02:53:INFO] Sniff delimiter as ','\u001b[0m\n",
      "\u001b[35m[2024-11-03:04:02:53:INFO] Determined delimiter of CSV input is ','\u001b[0m\n",
      "\u001b[35m[2024-11-03:04:02:53:INFO] Sniff delimiter as ','\u001b[0m\n",
      "\u001b[35m[2024-11-03:04:02:53:INFO] Determined delimiter of CSV input is ','\u001b[0m\n",
      "\u001b[35m[2024-11-03:04:02:53:INFO] Sniff delimiter as ','\u001b[0m\n",
      "\u001b[35m[2024-11-03:04:02:53:INFO] Determined delimiter of CSV input is ','\u001b[0m\n",
      "\u001b[35m[2024-11-03:04:02:53:INFO] Sniff delimiter as ','\u001b[0m\n",
      "\u001b[35m[2024-11-03:04:02:53:INFO] Determined delimiter of CSV input is ','\u001b[0m\n",
      "\u001b[34m[2024-11-03:04:02:55:INFO] Sniff delimiter as ','\u001b[0m\n",
      "\u001b[34m[2024-11-03:04:02:55:INFO] Determined delimiter of CSV input is ','\u001b[0m\n",
      "\u001b[34m[2024-11-03:04:02:55:INFO] Sniff delimiter as ','\u001b[0m\n",
      "\u001b[34m[2024-11-03:04:02:55:INFO] Determined delimiter of CSV input is ','\u001b[0m\n",
      "\u001b[34m[2024-11-03:04:02:55:INFO] Sniff delimiter as ','\u001b[0m\n",
      "\u001b[34m[2024-11-03:04:02:55:INFO] Determined delimiter of CSV input is ','\u001b[0m\n",
      "\u001b[35m[2024-11-03:04:02:55:INFO] Sniff delimiter as ','\u001b[0m\n",
      "\u001b[35m[2024-11-03:04:02:55:INFO] Determined delimiter of CSV input is ','\u001b[0m\n",
      "\u001b[35m[2024-11-03:04:02:55:INFO] Sniff delimiter as ','\u001b[0m\n",
      "\u001b[35m[2024-11-03:04:02:55:INFO] Determined delimiter of CSV input is ','\u001b[0m\n",
      "\u001b[35m[2024-11-03:04:02:55:INFO] Sniff delimiter as ','\u001b[0m\n",
      "\u001b[35m[2024-11-03:04:02:55:INFO] Determined delimiter of CSV input is ','\u001b[0m\n",
      "\u001b[34m[2024-11-03:04:02:57:INFO] Sniff delimiter as ','\u001b[0m\n",
      "\u001b[34m[2024-11-03:04:02:57:INFO] Determined delimiter of CSV input is ','\u001b[0m\n",
      "\u001b[34m[2024-11-03:04:02:57:INFO] Sniff delimiter as ','\u001b[0m\n",
      "\u001b[34m[2024-11-03:04:02:57:INFO] Determined delimiter of CSV input is ','\u001b[0m\n",
      "\u001b[35m[2024-11-03:04:02:57:INFO] Sniff delimiter as ','\u001b[0m\n",
      "\u001b[35m[2024-11-03:04:02:57:INFO] Determined delimiter of CSV input is ','\u001b[0m\n",
      "\u001b[35m[2024-11-03:04:02:57:INFO] Sniff delimiter as ','\u001b[0m\n",
      "\u001b[35m[2024-11-03:04:02:57:INFO] Determined delimiter of CSV input is ','\u001b[0m\n",
      "\u001b[34m[2024-11-03:04:02:59:INFO] Sniff delimiter as ','\u001b[0m\n",
      "\u001b[34m[2024-11-03:04:02:59:INFO] Determined delimiter of CSV input is ','\u001b[0m\n",
      "\u001b[34m[2024-11-03:04:02:59:INFO] Sniff delimiter as ','\u001b[0m\n",
      "\u001b[34m[2024-11-03:04:02:59:INFO] Determined delimiter of CSV input is ','\u001b[0m\n",
      "\u001b[34m[2024-11-03:04:03:00:INFO] Sniff delimiter as ','\u001b[0m\n",
      "\u001b[34m[2024-11-03:04:03:00:INFO] Determined delimiter of CSV input is ','\u001b[0m\n",
      "\u001b[35m[2024-11-03:04:02:59:INFO] Sniff delimiter as ','\u001b[0m\n",
      "\u001b[35m[2024-11-03:04:02:59:INFO] Determined delimiter of CSV input is ','\u001b[0m\n",
      "\u001b[35m[2024-11-03:04:02:59:INFO] Sniff delimiter as ','\u001b[0m\n",
      "\u001b[35m[2024-11-03:04:02:59:INFO] Determined delimiter of CSV input is ','\u001b[0m\n",
      "\u001b[35m[2024-11-03:04:03:00:INFO] Sniff delimiter as ','\u001b[0m\n",
      "\u001b[35m[2024-11-03:04:03:00:INFO] Determined delimiter of CSV input is ','\u001b[0m\n",
      "\u001b[34m[2024-11-03:04:03:00:INFO] Sniff delimiter as ','\u001b[0m\n",
      "\u001b[34m[2024-11-03:04:03:00:INFO] Determined delimiter of CSV input is ','\u001b[0m\n",
      "\u001b[35m[2024-11-03:04:03:00:INFO] Sniff delimiter as ','\u001b[0m\n",
      "\u001b[35m[2024-11-03:04:03:00:INFO] Determined delimiter of CSV input is ','\u001b[0m\n",
      "\u001b[34m[2024-11-03:04:03:02:INFO] Sniff delimiter as ','\u001b[0m\n",
      "\u001b[34m[2024-11-03:04:03:02:INFO] Determined delimiter of CSV input is ','\u001b[0m\n",
      "\u001b[34m[2024-11-03:04:03:02:INFO] Sniff delimiter as ','\u001b[0m\n",
      "\u001b[34m[2024-11-03:04:03:02:INFO] Determined delimiter of CSV input is ','\u001b[0m\n",
      "\u001b[34m[2024-11-03:04:03:02:INFO] Sniff delimiter as ','\u001b[0m\n",
      "\u001b[34m[2024-11-03:04:03:02:INFO] Determined delimiter of CSV input is ','\u001b[0m\n",
      "\u001b[35m[2024-11-03:04:03:02:INFO] Sniff delimiter as ','\u001b[0m\n",
      "\u001b[35m[2024-11-03:04:03:02:INFO] Determined delimiter of CSV input is ','\u001b[0m\n",
      "\u001b[35m[2024-11-03:04:03:02:INFO] Sniff delimiter as ','\u001b[0m\n",
      "\u001b[35m[2024-11-03:04:03:02:INFO] Determined delimiter of CSV input is ','\u001b[0m\n",
      "\u001b[35m[2024-11-03:04:03:02:INFO] Sniff delimiter as ','\u001b[0m\n",
      "\u001b[35m[2024-11-03:04:03:02:INFO] Determined delimiter of CSV input is ','\u001b[0m\n",
      "\u001b[34m[2024-11-03:04:03:02:INFO] Sniff delimiter as ','\u001b[0m\n",
      "\u001b[34m[2024-11-03:04:03:02:INFO] Determined delimiter of CSV input is ','\u001b[0m\n",
      "\u001b[35m[2024-11-03:04:03:02:INFO] Sniff delimiter as ','\u001b[0m\n",
      "\u001b[35m[2024-11-03:04:03:02:INFO] Determined delimiter of CSV input is ','\u001b[0m\n",
      "\u001b[34m[2024-11-03:04:03:04:INFO] Sniff delimiter as ','\u001b[0m\n",
      "\u001b[34m[2024-11-03:04:03:04:INFO] Determined delimiter of CSV input is ','\u001b[0m\n",
      "\u001b[34m[2024-11-03:04:03:04:INFO] Sniff delimiter as ','\u001b[0m\n",
      "\u001b[34m[2024-11-03:04:03:04:INFO] Determined delimiter of CSV input is ','\u001b[0m\n",
      "\u001b[35m[2024-11-03:04:03:04:INFO] Sniff delimiter as ','\u001b[0m\n",
      "\u001b[35m[2024-11-03:04:03:04:INFO] Determined delimiter of CSV input is ','\u001b[0m\n",
      "\u001b[35m[2024-11-03:04:03:04:INFO] Sniff delimiter as ','\u001b[0m\n",
      "\u001b[35m[2024-11-03:04:03:04:INFO] Determined delimiter of CSV input is ','\u001b[0m\n",
      "\n",
      "\u001b[34mArguments: serve\u001b[0m\n",
      "\u001b[35mArguments: serve\u001b[0m\n",
      "\u001b[34m[2024-11-03 04:02:39 +0000] [1] [INFO] Starting gunicorn 19.9.0\u001b[0m\n",
      "\u001b[34m[2024-11-03 04:02:39 +0000] [1] [INFO] Listening at: http://0.0.0.0:8080 (1)\u001b[0m\n",
      "\u001b[34m[2024-11-03 04:02:39 +0000] [1] [INFO] Using worker: gevent\u001b[0m\n",
      "\u001b[34m[2024-11-03 04:02:39 +0000] [21] [INFO] Booting worker with pid: 21\u001b[0m\n",
      "\u001b[34m[2024-11-03 04:02:39 +0000] [22] [INFO] Booting worker with pid: 22\u001b[0m\n",
      "\u001b[34m[2024-11-03 04:02:39 +0000] [23] [INFO] Booting worker with pid: 23\u001b[0m\n",
      "\u001b[34m/opt/amazon/lib/python3.7/site-packages/gunicorn/workers/ggevent.py:65: MonkeyPatchWarning: Monkey-patching ssl after ssl has already been imported may lead to errors, including RecursionError on Python 3.6. It may also silently lead to incorrect behaviour on Python 3.7. Please monkey-patch earlier. See https://github.com/gevent/gevent/issues/1016. Modules that had direct imports (NOT patched): ['urllib3.util (/opt/amazon/lib/python3.7/site-packages/urllib3/util/__init__.py)', 'urllib3.util.ssl_ (/opt/amazon/lib/python3.7/site-packages/urllib3/util/ssl_.py)']. \n",
      "  monkey.patch_all(subprocess=True)\u001b[0m\n",
      "\u001b[34m/opt/amazon/lib/python3.7/site-packages/gunicorn/workers/ggevent.py:65: MonkeyPatchWarning: Monkey-patching ssl after ssl has already been imported may lead to errors, including RecursionError on Python 3.6. It may also silently lead to incorrect behaviour on Python 3.7. Please monkey-patch earlier. See https://github.com/gevent/gevent/issues/1016. Modules that had direct imports (NOT patched): ['urllib3.util (/opt/amazon/lib/python3.7/site-packages/urllib3/util/__init__.py)', 'urllib3.util.ssl_ (/opt/amazon/lib/python3.7/site-packages/urllib3/util/ssl_.py)']. \n",
      "  monkey.patch_all(subprocess=True)\u001b[0m\n",
      "\u001b[34m[2024-11-03:04:02:39:INFO] Model loaded successfully for worker : 21\u001b[0m\n",
      "\u001b[34m[2024-11-03:04:02:39:INFO] Model loaded successfully for worker : 22\u001b[0m\n",
      "\u001b[34m[2024-11-03 04:02:39 +0000] [24] [INFO] Booting worker with pid: 24\u001b[0m\n",
      "\u001b[34m/opt/amazon/lib/python3.7/site-packages/gunicorn/workers/ggevent.py:65: MonkeyPatchWarning: Monkey-patching ssl after ssl has already been imported may lead to errors, including RecursionError on Python 3.6. It may also silently lead to incorrect behaviour on Python 3.7. Please monkey-patch earlier. See https://github.com/gevent/gevent/issues/1016. Modules that had direct imports (NOT patched): ['urllib3.util (/opt/amazon/lib/python3.7/site-packages/urllib3/util/__init__.py)', 'urllib3.util.ssl_ (/opt/amazon/lib/python3.7/site-packages/urllib3/util/ssl_.py)']. \n",
      "  monkey.patch_all(subprocess=True)\u001b[0m\n",
      "\u001b[34m[2024-11-03:04:02:39:INFO] Model loaded successfully for worker : 23\u001b[0m\n",
      "\u001b[34m/opt/amazon/lib/python3.7/site-packages/gunicorn/workers/ggevent.py:65: MonkeyPatchWarning: Monkey-patching ssl after ssl has already been imported may lead to errors, including RecursionError on Python 3.6. It may also silently lead to incorrect behaviour on Python 3.7. Please monkey-patch earlier. See https://github.com/gevent/gevent/issues/1016. Modules that had direct imports (NOT patched): ['urllib3.util (/opt/amazon/lib/python3.7/site-packages/urllib3/util/__init__.py)', 'urllib3.util.ssl_ (/opt/amazon/lib/python3.7/site-packages/urllib3/util/ssl_.py)']. \n",
      "  monkey.patch_all(subprocess=True)\u001b[0m\n",
      "\u001b[35m[2024-11-03 04:02:39 +0000] [1] [INFO] Starting gunicorn 19.9.0\u001b[0m\n",
      "\u001b[35m[2024-11-03 04:02:39 +0000] [1] [INFO] Listening at: http://0.0.0.0:8080 (1)\u001b[0m\n",
      "\u001b[35m[2024-11-03 04:02:39 +0000] [1] [INFO] Using worker: gevent\u001b[0m\n",
      "\u001b[35m[2024-11-03 04:02:39 +0000] [21] [INFO] Booting worker with pid: 21\u001b[0m\n",
      "\u001b[35m[2024-11-03 04:02:39 +0000] [22] [INFO] Booting worker with pid: 22\u001b[0m\n",
      "\u001b[35m[2024-11-03 04:02:39 +0000] [23] [INFO] Booting worker with pid: 23\u001b[0m\n",
      "\u001b[35m/opt/amazon/lib/python3.7/site-packages/gunicorn/workers/ggevent.py:65: MonkeyPatchWarning: Monkey-patching ssl after ssl has already been imported may lead to errors, including RecursionError on Python 3.6. It may also silently lead to incorrect behaviour on Python 3.7. Please monkey-patch earlier. See https://github.com/gevent/gevent/issues/1016. Modules that had direct imports (NOT patched): ['urllib3.util (/opt/amazon/lib/python3.7/site-packages/urllib3/util/__init__.py)', 'urllib3.util.ssl_ (/opt/amazon/lib/python3.7/site-packages/urllib3/util/ssl_.py)']. \n",
      "  monkey.patch_all(subprocess=True)\u001b[0m\n",
      "\u001b[35m/opt/amazon/lib/python3.7/site-packages/gunicorn/workers/ggevent.py:65: MonkeyPatchWarning: Monkey-patching ssl after ssl has already been imported may lead to errors, including RecursionError on Python 3.6. It may also silently lead to incorrect behaviour on Python 3.7. Please monkey-patch earlier. See https://github.com/gevent/gevent/issues/1016. Modules that had direct imports (NOT patched): ['urllib3.util (/opt/amazon/lib/python3.7/site-packages/urllib3/util/__init__.py)', 'urllib3.util.ssl_ (/opt/amazon/lib/python3.7/site-packages/urllib3/util/ssl_.py)']. \n",
      "  monkey.patch_all(subprocess=True)\u001b[0m\n",
      "\u001b[35m[2024-11-03:04:02:39:INFO] Model loaded successfully for worker : 21\u001b[0m\n",
      "\u001b[35m[2024-11-03:04:02:39:INFO] Model loaded successfully for worker : 22\u001b[0m\n",
      "\u001b[35m[2024-11-03 04:02:39 +0000] [24] [INFO] Booting worker with pid: 24\u001b[0m\n",
      "\u001b[35m/opt/amazon/lib/python3.7/site-packages/gunicorn/workers/ggevent.py:65: MonkeyPatchWarning: Monkey-patching ssl after ssl has already been imported may lead to errors, including RecursionError on Python 3.6. It may also silently lead to incorrect behaviour on Python 3.7. Please monkey-patch earlier. See https://github.com/gevent/gevent/issues/1016. Modules that had direct imports (NOT patched): ['urllib3.util (/opt/amazon/lib/python3.7/site-packages/urllib3/util/__init__.py)', 'urllib3.util.ssl_ (/opt/amazon/lib/python3.7/site-packages/urllib3/util/ssl_.py)']. \n",
      "  monkey.patch_all(subprocess=True)\u001b[0m\n",
      "\u001b[35m[2024-11-03:04:02:39:INFO] Model loaded successfully for worker : 23\u001b[0m\n",
      "\u001b[35m/opt/amazon/lib/python3.7/site-packages/gunicorn/workers/ggevent.py:65: MonkeyPatchWarning: Monkey-patching ssl after ssl has already been imported may lead to errors, including RecursionError on Python 3.6. It may also silently lead to incorrect behaviour on Python 3.7. Please monkey-patch earlier. See https://github.com/gevent/gevent/issues/1016. Modules that had direct imports (NOT patched): ['urllib3.util (/opt/amazon/lib/python3.7/site-packages/urllib3/util/__init__.py)', 'urllib3.util.ssl_ (/opt/amazon/lib/python3.7/site-packages/urllib3/util/ssl_.py)']. \n",
      "  monkey.patch_all(subprocess=True)\u001b[0m\n",
      "\u001b[34m[2024-11-03:04:02:39:INFO] Model loaded successfully for worker : 24\u001b[0m\n",
      "\u001b[35m[2024-11-03:04:02:39:INFO] Model loaded successfully for worker : 24\u001b[0m\n",
      "\u001b[34m[2024-11-03:04:02:45:INFO] Sniff delimiter as ','\u001b[0m\n",
      "\u001b[34m[2024-11-03:04:02:45:INFO] Determined delimiter of CSV input is ','\u001b[0m\n",
      "\u001b[34m[2024-11-03:04:02:46:INFO] Sniff delimiter as ','\u001b[0m\n",
      "\u001b[34m[2024-11-03:04:02:46:INFO] Determined delimiter of CSV input is ','\u001b[0m\n",
      "\u001b[34m[2024-11-03:04:02:46:INFO] Sniff delimiter as ','\u001b[0m\n",
      "\u001b[34m[2024-11-03:04:02:46:INFO] Determined delimiter of CSV input is ','\u001b[0m\n",
      "\u001b[34m[2024-11-03:04:02:46:INFO] Sniff delimiter as ','\u001b[0m\n",
      "\u001b[35m[2024-11-03:04:02:45:INFO] Sniff delimiter as ','\u001b[0m\n",
      "\u001b[35m[2024-11-03:04:02:45:INFO] Determined delimiter of CSV input is ','\u001b[0m\n",
      "\u001b[35m[2024-11-03:04:02:46:INFO] Sniff delimiter as ','\u001b[0m\n",
      "\u001b[35m[2024-11-03:04:02:46:INFO] Determined delimiter of CSV input is ','\u001b[0m\n",
      "\u001b[35m[2024-11-03:04:02:46:INFO] Sniff delimiter as ','\u001b[0m\n",
      "\u001b[35m[2024-11-03:04:02:46:INFO] Determined delimiter of CSV input is ','\u001b[0m\n",
      "\u001b[35m[2024-11-03:04:02:46:INFO] Sniff delimiter as ','\u001b[0m\n",
      "\u001b[34m[2024-11-03:04:02:46:INFO] Determined delimiter of CSV input is ','\u001b[0m\n",
      "\u001b[35m[2024-11-03:04:02:46:INFO] Determined delimiter of CSV input is ','\u001b[0m\n",
      "\u001b[32m2024-11-03T04:02:42.876:[sagemaker logs]: MaxConcurrentTransforms=4, MaxPayloadInMB=6, BatchStrategy=MULTI_RECORD\u001b[0m\n",
      "\u001b[34m[2024-11-03:04:02:48:INFO] Sniff delimiter as ','\u001b[0m\n",
      "\u001b[35m[2024-11-03:04:02:48:INFO] Sniff delimiter as ','\u001b[0m\n",
      "\u001b[34m[2024-11-03:04:02:48:INFO] Determined delimiter of CSV input is ','\u001b[0m\n",
      "\u001b[34m[2024-11-03:04:02:48:INFO] Sniff delimiter as ','\u001b[0m\n",
      "\u001b[34m[2024-11-03:04:02:48:INFO] Determined delimiter of CSV input is ','\u001b[0m\n",
      "\u001b[35m[2024-11-03:04:02:48:INFO] Determined delimiter of CSV input is ','\u001b[0m\n",
      "\u001b[35m[2024-11-03:04:02:48:INFO] Sniff delimiter as ','\u001b[0m\n",
      "\u001b[35m[2024-11-03:04:02:48:INFO] Determined delimiter of CSV input is ','\u001b[0m\n",
      "\u001b[34m[2024-11-03:04:02:48:INFO] Sniff delimiter as ','\u001b[0m\n",
      "\u001b[34m[2024-11-03:04:02:48:INFO] Determined delimiter of CSV input is ','\u001b[0m\n",
      "\u001b[34m[2024-11-03:04:02:48:INFO] Sniff delimiter as ','\u001b[0m\n",
      "\u001b[34m[2024-11-03:04:02:48:INFO] Determined delimiter of CSV input is ','\u001b[0m\n",
      "\u001b[35m[2024-11-03:04:02:48:INFO] Sniff delimiter as ','\u001b[0m\n",
      "\u001b[35m[2024-11-03:04:02:48:INFO] Determined delimiter of CSV input is ','\u001b[0m\n",
      "\u001b[35m[2024-11-03:04:02:48:INFO] Sniff delimiter as ','\u001b[0m\n",
      "\u001b[35m[2024-11-03:04:02:48:INFO] Determined delimiter of CSV input is ','\u001b[0m\n",
      "\u001b[34m[2024-11-03:04:02:50:INFO] Sniff delimiter as ','\u001b[0m\n",
      "\u001b[34m[2024-11-03:04:02:50:INFO] Determined delimiter of CSV input is ','\u001b[0m\n",
      "\u001b[34m[2024-11-03:04:02:50:INFO] Sniff delimiter as ','\u001b[0m\n",
      "\u001b[34m[2024-11-03:04:02:50:INFO] Determined delimiter of CSV input is ','\u001b[0m\n",
      "\u001b[34m[2024-11-03:04:02:50:INFO] Sniff delimiter as ','\u001b[0m\n",
      "\u001b[34m[2024-11-03:04:02:50:INFO] Determined delimiter of CSV input is ','\u001b[0m\n",
      "\u001b[34m[2024-11-03:04:02:51:INFO] Sniff delimiter as ','\u001b[0m\n",
      "\u001b[34m[2024-11-03:04:02:51:INFO] Determined delimiter of CSV input is ','\u001b[0m\n",
      "\u001b[35m[2024-11-03:04:02:50:INFO] Sniff delimiter as ','\u001b[0m\n",
      "\u001b[35m[2024-11-03:04:02:50:INFO] Determined delimiter of CSV input is ','\u001b[0m\n",
      "\u001b[35m[2024-11-03:04:02:50:INFO] Sniff delimiter as ','\u001b[0m\n",
      "\u001b[35m[2024-11-03:04:02:50:INFO] Determined delimiter of CSV input is ','\u001b[0m\n",
      "\u001b[35m[2024-11-03:04:02:50:INFO] Sniff delimiter as ','\u001b[0m\n",
      "\u001b[35m[2024-11-03:04:02:50:INFO] Determined delimiter of CSV input is ','\u001b[0m\n",
      "\u001b[35m[2024-11-03:04:02:51:INFO] Sniff delimiter as ','\u001b[0m\n",
      "\u001b[35m[2024-11-03:04:02:51:INFO] Determined delimiter of CSV input is ','\u001b[0m\n",
      "\u001b[34m[2024-11-03:04:02:53:INFO] Sniff delimiter as ','\u001b[0m\n",
      "\u001b[34m[2024-11-03:04:02:53:INFO] Determined delimiter of CSV input is ','\u001b[0m\n",
      "\u001b[34m[2024-11-03:04:02:53:INFO] Sniff delimiter as ','\u001b[0m\n",
      "\u001b[34m[2024-11-03:04:02:53:INFO] Determined delimiter of CSV input is ','\u001b[0m\n",
      "\u001b[34m[2024-11-03:04:02:53:INFO] Sniff delimiter as ','\u001b[0m\n",
      "\u001b[34m[2024-11-03:04:02:53:INFO] Determined delimiter of CSV input is ','\u001b[0m\n",
      "\u001b[34m[2024-11-03:04:02:53:INFO] Sniff delimiter as ','\u001b[0m\n",
      "\u001b[34m[2024-11-03:04:02:53:INFO] Determined delimiter of CSV input is ','\u001b[0m\n",
      "\u001b[35m[2024-11-03:04:02:53:INFO] Sniff delimiter as ','\u001b[0m\n",
      "\u001b[35m[2024-11-03:04:02:53:INFO] Determined delimiter of CSV input is ','\u001b[0m\n",
      "\u001b[35m[2024-11-03:04:02:53:INFO] Sniff delimiter as ','\u001b[0m\n",
      "\u001b[35m[2024-11-03:04:02:53:INFO] Determined delimiter of CSV input is ','\u001b[0m\n",
      "\u001b[35m[2024-11-03:04:02:53:INFO] Sniff delimiter as ','\u001b[0m\n",
      "\u001b[35m[2024-11-03:04:02:53:INFO] Determined delimiter of CSV input is ','\u001b[0m\n",
      "\u001b[35m[2024-11-03:04:02:53:INFO] Sniff delimiter as ','\u001b[0m\n",
      "\u001b[35m[2024-11-03:04:02:53:INFO] Determined delimiter of CSV input is ','\u001b[0m\n",
      "\u001b[34m[2024-11-03:04:02:55:INFO] Sniff delimiter as ','\u001b[0m\n",
      "\u001b[34m[2024-11-03:04:02:55:INFO] Determined delimiter of CSV input is ','\u001b[0m\n",
      "\u001b[34m[2024-11-03:04:02:55:INFO] Sniff delimiter as ','\u001b[0m\n",
      "\u001b[34m[2024-11-03:04:02:55:INFO] Determined delimiter of CSV input is ','\u001b[0m\n",
      "\u001b[34m[2024-11-03:04:02:55:INFO] Sniff delimiter as ','\u001b[0m\n",
      "\u001b[34m[2024-11-03:04:02:55:INFO] Determined delimiter of CSV input is ','\u001b[0m\n",
      "\u001b[35m[2024-11-03:04:02:55:INFO] Sniff delimiter as ','\u001b[0m\n",
      "\u001b[35m[2024-11-03:04:02:55:INFO] Determined delimiter of CSV input is ','\u001b[0m\n",
      "\u001b[35m[2024-11-03:04:02:55:INFO] Sniff delimiter as ','\u001b[0m\n",
      "\u001b[35m[2024-11-03:04:02:55:INFO] Determined delimiter of CSV input is ','\u001b[0m\n",
      "\u001b[35m[2024-11-03:04:02:55:INFO] Sniff delimiter as ','\u001b[0m\n",
      "\u001b[35m[2024-11-03:04:02:55:INFO] Determined delimiter of CSV input is ','\u001b[0m\n",
      "\u001b[34m[2024-11-03:04:02:55:INFO] Sniff delimiter as ','\u001b[0m\n",
      "\u001b[34m[2024-11-03:04:02:55:INFO] Determined delimiter of CSV input is ','\u001b[0m\n",
      "\u001b[35m[2024-11-03:04:02:55:INFO] Sniff delimiter as ','\u001b[0m\n",
      "\u001b[35m[2024-11-03:04:02:55:INFO] Determined delimiter of CSV input is ','\u001b[0m\n",
      "\u001b[34m[2024-11-03:04:02:57:INFO] Sniff delimiter as ','\u001b[0m\n",
      "\u001b[35m[2024-11-03:04:02:57:INFO] Sniff delimiter as ','\u001b[0m\n",
      "\u001b[34m[2024-11-03:04:02:57:INFO] Determined delimiter of CSV input is ','\u001b[0m\n",
      "\u001b[34m[2024-11-03:04:02:57:INFO] Sniff delimiter as ','\u001b[0m\n",
      "\u001b[34m[2024-11-03:04:02:57:INFO] Determined delimiter of CSV input is ','\u001b[0m\n",
      "\u001b[34m[2024-11-03:04:02:57:INFO] Sniff delimiter as ','\u001b[0m\n",
      "\u001b[34m[2024-11-03:04:02:57:INFO] Determined delimiter of CSV input is ','\u001b[0m\n",
      "\u001b[34m[2024-11-03:04:02:57:INFO] Sniff delimiter as ','\u001b[0m\n",
      "\u001b[34m[2024-11-03:04:02:57:INFO] Determined delimiter of CSV input is ','\u001b[0m\n",
      "\u001b[35m[2024-11-03:04:02:57:INFO] Determined delimiter of CSV input is ','\u001b[0m\n",
      "\u001b[35m[2024-11-03:04:02:57:INFO] Sniff delimiter as ','\u001b[0m\n",
      "\u001b[35m[2024-11-03:04:02:57:INFO] Determined delimiter of CSV input is ','\u001b[0m\n",
      "\u001b[35m[2024-11-03:04:02:57:INFO] Sniff delimiter as ','\u001b[0m\n",
      "\u001b[35m[2024-11-03:04:02:57:INFO] Determined delimiter of CSV input is ','\u001b[0m\n",
      "\u001b[35m[2024-11-03:04:02:57:INFO] Sniff delimiter as ','\u001b[0m\n",
      "\u001b[35m[2024-11-03:04:02:57:INFO] Determined delimiter of CSV input is ','\u001b[0m\n",
      "\u001b[34m[2024-11-03:04:02:59:INFO] Sniff delimiter as ','\u001b[0m\n",
      "\u001b[34m[2024-11-03:04:02:59:INFO] Determined delimiter of CSV input is ','\u001b[0m\n",
      "\u001b[34m[2024-11-03:04:02:59:INFO] Sniff delimiter as ','\u001b[0m\n",
      "\u001b[34m[2024-11-03:04:02:59:INFO] Determined delimiter of CSV input is ','\u001b[0m\n",
      "\u001b[34m[2024-11-03:04:03:00:INFO] Sniff delimiter as ','\u001b[0m\n",
      "\u001b[34m[2024-11-03:04:03:00:INFO] Determined delimiter of CSV input is ','\u001b[0m\n",
      "\u001b[35m[2024-11-03:04:02:59:INFO] Sniff delimiter as ','\u001b[0m\n",
      "\u001b[35m[2024-11-03:04:02:59:INFO] Determined delimiter of CSV input is ','\u001b[0m\n",
      "\u001b[35m[2024-11-03:04:02:59:INFO] Sniff delimiter as ','\u001b[0m\n",
      "\u001b[35m[2024-11-03:04:02:59:INFO] Determined delimiter of CSV input is ','\u001b[0m\n",
      "\u001b[35m[2024-11-03:04:03:00:INFO] Sniff delimiter as ','\u001b[0m\n",
      "\u001b[35m[2024-11-03:04:03:00:INFO] Determined delimiter of CSV input is ','\u001b[0m\n",
      "\u001b[34m[2024-11-03:04:03:00:INFO] Sniff delimiter as ','\u001b[0m\n",
      "\u001b[34m[2024-11-03:04:03:00:INFO] Determined delimiter of CSV input is ','\u001b[0m\n",
      "\u001b[35m[2024-11-03:04:03:00:INFO] Sniff delimiter as ','\u001b[0m\n",
      "\u001b[35m[2024-11-03:04:03:00:INFO] Determined delimiter of CSV input is ','\u001b[0m\n",
      "\u001b[34m[2024-11-03:04:03:02:INFO] Sniff delimiter as ','\u001b[0m\n",
      "\u001b[34m[2024-11-03:04:03:02:INFO] Determined delimiter of CSV input is ','\u001b[0m\n",
      "\u001b[34m[2024-11-03:04:03:02:INFO] Sniff delimiter as ','\u001b[0m\n",
      "\u001b[34m[2024-11-03:04:03:02:INFO] Determined delimiter of CSV input is ','\u001b[0m\n",
      "\u001b[34m[2024-11-03:04:03:02:INFO] Sniff delimiter as ','\u001b[0m\n",
      "\u001b[34m[2024-11-03:04:03:02:INFO] Determined delimiter of CSV input is ','\u001b[0m\n",
      "\u001b[35m[2024-11-03:04:03:02:INFO] Sniff delimiter as ','\u001b[0m\n",
      "\u001b[35m[2024-11-03:04:03:02:INFO] Determined delimiter of CSV input is ','\u001b[0m\n",
      "\u001b[35m[2024-11-03:04:03:02:INFO] Sniff delimiter as ','\u001b[0m\n",
      "\u001b[35m[2024-11-03:04:03:02:INFO] Determined delimiter of CSV input is ','\u001b[0m\n",
      "\u001b[35m[2024-11-03:04:03:02:INFO] Sniff delimiter as ','\u001b[0m\n",
      "\u001b[35m[2024-11-03:04:03:02:INFO] Determined delimiter of CSV input is ','\u001b[0m\n",
      "\u001b[34m[2024-11-03:04:03:02:INFO] Sniff delimiter as ','\u001b[0m\n",
      "\u001b[34m[2024-11-03:04:03:02:INFO] Determined delimiter of CSV input is ','\u001b[0m\n",
      "\u001b[35m[2024-11-03:04:03:02:INFO] Sniff delimiter as ','\u001b[0m\n",
      "\u001b[35m[2024-11-03:04:03:02:INFO] Determined delimiter of CSV input is ','\u001b[0m\n",
      "\u001b[34m[2024-11-03:04:03:04:INFO] Sniff delimiter as ','\u001b[0m\n",
      "\u001b[34m[2024-11-03:04:03:04:INFO] Determined delimiter of CSV input is ','\u001b[0m\n",
      "\u001b[34m[2024-11-03:04:03:04:INFO] Sniff delimiter as ','\u001b[0m\n",
      "\u001b[34m[2024-11-03:04:03:04:INFO] Determined delimiter of CSV input is ','\u001b[0m\n",
      "\u001b[35m[2024-11-03:04:03:04:INFO] Sniff delimiter as ','\u001b[0m\n",
      "\u001b[35m[2024-11-03:04:03:04:INFO] Determined delimiter of CSV input is ','\u001b[0m\n",
      "\u001b[35m[2024-11-03:04:03:04:INFO] Sniff delimiter as ','\u001b[0m\n",
      "\u001b[35m[2024-11-03:04:03:04:INFO] Determined delimiter of CSV input is ','\u001b[0m\n"
     ]
    }
   ],
   "source": [
    "xgb_transformer.transform(test_X_path, content_type=\"text/csv\", split_type=\"Line\")\n",
    "xgb_transformer.wait()"
   ]
  },
  {
   "cell_type": "code",
   "execution_count": 19,
   "id": "be2431f7",
   "metadata": {},
   "outputs": [
    {
     "name": "stdout",
     "output_type": "stream",
     "text": [
      "final_assignment/q2b/batch_output/test.csv.out\n",
      "final_assignment/q2b/input/test/test.csv\n",
      "final_assignment/q2b/input/training/train.csv\n",
      "final_assignment/q2b/input/validation/validation.csv\n",
      "final_assignment/q2b/output/xgboost-2024-11-03-03-47-30-300/debug-output/training_job_end.ts\n",
      "final_assignment/q2b/output/xgboost-2024-11-03-03-47-30-300/output/model.tar.gz\n",
      "final_assignment/q2b/output/xgboost-2024-11-03-03-47-30-300/profiler-output/framework/training_job_end.ts\n",
      "final_assignment/q2b/output/xgboost-2024-11-03-03-47-30-300/profiler-output/system/incremental/2024110303/1730605680.algo-1.json\n",
      "final_assignment/q2b/output/xgboost-2024-11-03-03-47-30-300/profiler-output/system/incremental/2024110303/1730605740.algo-1.json\n",
      "final_assignment/q2b/output/xgboost-2024-11-03-03-47-30-300/profiler-output/system/incremental/2024110303/1730605800.algo-1.json\n",
      "final_assignment/q2b/output/xgboost-2024-11-03-03-47-30-300/profiler-output/system/incremental/2024110303/1730605860.algo-1.json\n",
      "final_assignment/q2b/output/xgboost-2024-11-03-03-47-30-300/profiler-output/system/incremental/2024110303/1730605920.algo-1.json\n",
      "final_assignment/q2b/output/xgboost-2024-11-03-03-47-30-300/profiler-output/system/training_job_end.ts\n"
     ]
    }
   ],
   "source": [
    "import boto3\n",
    "\n",
    "s3 = boto3.client(\"s3\")\n",
    "response = s3.list_objects_v2(Bucket=bucket, Prefix=prefix)\n",
    "if 'Contents' in response:\n",
    "    for obj in response['Contents']:\n",
    "        print(obj['Key'])\n",
    "else:\n",
    "    print(\"No objects found in the specified prefix.\")"
   ]
  },
  {
   "cell_type": "code",
   "execution_count": 20,
   "id": "2c48ad53",
   "metadata": {},
   "outputs": [],
   "source": [
    "import io\n",
    "\n",
    "y_file = boto3.client(\"s3\").get_object(Bucket = bucket, Key = \"final_assignment/q2b/batch_output/test.csv.out\")\n",
    "y_pred = pd.read_csv(io.BytesIO(y_file[\"Body\"].read()), header = None, names = [\"Predicted\"])"
   ]
  },
  {
   "cell_type": "code",
   "execution_count": 21,
   "id": "7ca5a897",
   "metadata": {},
   "outputs": [],
   "source": [
    "y_pred[\"actual\"] = y_pred[\"Predicted\"].apply(lambda x : 1 if x > 0.5 else 0)"
   ]
  },
  {
   "cell_type": "code",
   "execution_count": 22,
   "id": "4d4a62e7",
   "metadata": {},
   "outputs": [
    {
     "name": "stdout",
     "output_type": "stream",
     "text": [
      "Accuracy: 0.6543884357637008\n"
     ]
    }
   ],
   "source": [
    "from sklearn.metrics import accuracy_score\n",
    "\n",
    "\n",
    "accuracy = accuracy_score(test_y, y_pred[\"actual\"])\n",
    "print(\"Accuracy:\", accuracy)"
   ]
  },
  {
   "cell_type": "code",
   "execution_count": 23,
   "id": "bca6988c",
   "metadata": {},
   "outputs": [],
   "source": [
    "test_labels = test.iloc[:,0]"
   ]
  },
  {
   "cell_type": "code",
   "execution_count": 24,
   "id": "5911acbd",
   "metadata": {},
   "outputs": [
    {
     "data": {
      "text/html": [
       "<div>\n",
       "<style scoped>\n",
       "    .dataframe tbody tr th:only-of-type {\n",
       "        vertical-align: middle;\n",
       "    }\n",
       "\n",
       "    .dataframe tbody tr th {\n",
       "        vertical-align: top;\n",
       "    }\n",
       "\n",
       "    .dataframe thead th {\n",
       "        text-align: right;\n",
       "    }\n",
       "</style>\n",
       "<table border=\"1\" class=\"dataframe\">\n",
       "  <thead>\n",
       "    <tr style=\"text-align: right;\">\n",
       "      <th></th>\n",
       "      <th>Predicted</th>\n",
       "      <th>actual</th>\n",
       "    </tr>\n",
       "  </thead>\n",
       "  <tbody>\n",
       "    <tr>\n",
       "      <th>0</th>\n",
       "      <td>0.408571</td>\n",
       "      <td>0</td>\n",
       "    </tr>\n",
       "    <tr>\n",
       "      <th>1</th>\n",
       "      <td>0.221834</td>\n",
       "      <td>0</td>\n",
       "    </tr>\n",
       "    <tr>\n",
       "      <th>2</th>\n",
       "      <td>0.556590</td>\n",
       "      <td>1</td>\n",
       "    </tr>\n",
       "    <tr>\n",
       "      <th>3</th>\n",
       "      <td>0.548338</td>\n",
       "      <td>1</td>\n",
       "    </tr>\n",
       "    <tr>\n",
       "      <th>4</th>\n",
       "      <td>0.661164</td>\n",
       "      <td>1</td>\n",
       "    </tr>\n",
       "    <tr>\n",
       "      <th>...</th>\n",
       "      <td>...</td>\n",
       "      <td>...</td>\n",
       "    </tr>\n",
       "    <tr>\n",
       "      <th>387673</th>\n",
       "      <td>0.285079</td>\n",
       "      <td>0</td>\n",
       "    </tr>\n",
       "    <tr>\n",
       "      <th>387674</th>\n",
       "      <td>0.582358</td>\n",
       "      <td>1</td>\n",
       "    </tr>\n",
       "    <tr>\n",
       "      <th>387675</th>\n",
       "      <td>0.735448</td>\n",
       "      <td>1</td>\n",
       "    </tr>\n",
       "    <tr>\n",
       "      <th>387676</th>\n",
       "      <td>0.668543</td>\n",
       "      <td>1</td>\n",
       "    </tr>\n",
       "    <tr>\n",
       "      <th>387677</th>\n",
       "      <td>0.432865</td>\n",
       "      <td>0</td>\n",
       "    </tr>\n",
       "  </tbody>\n",
       "</table>\n",
       "<p>387678 rows × 2 columns</p>\n",
       "</div>"
      ],
      "text/plain": [
       "        Predicted  actual\n",
       "0        0.408571       0\n",
       "1        0.221834       0\n",
       "2        0.556590       1\n",
       "3        0.548338       1\n",
       "4        0.661164       1\n",
       "...           ...     ...\n",
       "387673   0.285079       0\n",
       "387674   0.582358       1\n",
       "387675   0.735448       1\n",
       "387676   0.668543       1\n",
       "387677   0.432865       0\n",
       "\n",
       "[387678 rows x 2 columns]"
      ]
     },
     "execution_count": 24,
     "metadata": {},
     "output_type": "execute_result"
    }
   ],
   "source": [
    "y_pred"
   ]
  },
  {
   "cell_type": "markdown",
   "id": "3bd56c08",
   "metadata": {},
   "source": [
    "# Creating a confusion matrix\n"
   ]
  },
  {
   "cell_type": "code",
   "execution_count": 25,
   "id": "7eeb93b1",
   "metadata": {},
   "outputs": [
    {
     "data": {
      "text/html": [
       "<div>\n",
       "<style scoped>\n",
       "    .dataframe tbody tr th:only-of-type {\n",
       "        vertical-align: middle;\n",
       "    }\n",
       "\n",
       "    .dataframe tbody tr th {\n",
       "        vertical-align: top;\n",
       "    }\n",
       "\n",
       "    .dataframe thead th {\n",
       "        text-align: right;\n",
       "    }\n",
       "</style>\n",
       "<table border=\"1\" class=\"dataframe\">\n",
       "  <thead>\n",
       "    <tr style=\"text-align: right;\">\n",
       "      <th></th>\n",
       "      <th>no_delay</th>\n",
       "      <th>delay</th>\n",
       "    </tr>\n",
       "  </thead>\n",
       "  <tbody>\n",
       "    <tr>\n",
       "      <th>no_delay</th>\n",
       "      <td>132123</td>\n",
       "      <td>62038</td>\n",
       "    </tr>\n",
       "    <tr>\n",
       "      <th>delay</th>\n",
       "      <td>71948</td>\n",
       "      <td>121569</td>\n",
       "    </tr>\n",
       "  </tbody>\n",
       "</table>\n",
       "</div>"
      ],
      "text/plain": [
       "          no_delay   delay\n",
       "no_delay    132123   62038\n",
       "delay        71948  121569"
      ]
     },
     "execution_count": 25,
     "metadata": {},
     "output_type": "execute_result"
    }
   ],
   "source": [
    "from sklearn.metrics import confusion_matrix\n",
    "\n",
    "matrix = confusion_matrix(test_labels, y_pred['actual'])\n",
    "df_confusion = pd.DataFrame(matrix, index=['no_delay','delay'],columns=['no_delay','delay'])\n",
    "\n",
    "df_confusion"
   ]
  },
  {
   "cell_type": "markdown",
   "id": "42c92ecb",
   "metadata": {},
   "source": [
    "To start, extract the values from the confusion matrix cells into variables.\n"
   ]
  },
  {
   "cell_type": "code",
   "execution_count": 26,
   "id": "b0a5c04c",
   "metadata": {},
   "outputs": [
    {
     "name": "stdout",
     "output_type": "stream",
     "text": [
      "True Negative (TN) : 132123\n",
      "False Positive (FP): 62038\n",
      "False Negative (FN): 71948\n",
      "True Positive (TP) : 121569\n"
     ]
    }
   ],
   "source": [
    "from sklearn.metrics import roc_auc_score, roc_curve, auc\n",
    "\n",
    "TN, FP, FN, TP = confusion_matrix(test_labels, y_pred['actual']).ravel()\n",
    "\n",
    "print(f\"True Negative (TN) : {TN}\")\n",
    "print(f\"False Positive (FP): {FP}\")\n",
    "print(f\"False Negative (FN): {FN}\")\n",
    "print(f\"True Positive (TP) : {TP}\")"
   ]
  },
  {
   "cell_type": "markdown",
   "id": "7e5d2691",
   "metadata": {},
   "source": [
    "### Sensitivity\n",
    "\n",
    "Sensitivity is also known as *hit rate*, *recall*, or *true positive rate (TPR)*. It measures the proportion of the actual positives that are correctly identified."
   ]
  },
  {
   "cell_type": "code",
   "execution_count": 35,
   "id": "75da1611",
   "metadata": {},
   "outputs": [
    {
     "name": "stdout",
     "output_type": "stream",
     "text": [
      "Sensitivity or TPR: 62.8208374458058%\n",
      "There is a 62.8208374458058% chance of detecting delay with actual delay\n"
     ]
    }
   ],
   "source": [
    "# Sensitivity, hit rate, recall, or true positive rate\n",
    "Sensitivity  = float(TP)/(TP+FN)*100\n",
    "print(f\"Sensitivity or TPR: {Sensitivity}%\")  \n",
    "print(f\"There is a {Sensitivity}% chance of detecting delay with actual delay\")"
   ]
  },
  {
   "cell_type": "markdown",
   "id": "ad449d48",
   "metadata": {},
   "source": [
    "# Specificity\n",
    "The next statistic is *specificity*, which is also known as the *true negative*. It measures the proportion of the actual negatives that are correctly identified."
   ]
  },
  {
   "cell_type": "code",
   "execution_count": 34,
   "id": "da2977bf",
   "metadata": {},
   "outputs": [
    {
     "name": "stdout",
     "output_type": "stream",
     "text": [
      "Specificity or TNR: 68.04816621257615%\n",
      "There is a 68.04816621257615% chance of detecting delay are not_delay.\n"
     ]
    }
   ],
   "source": [
    "# Specificity or true negative rate\n",
    "Specificity  = float(TN)/(TN+FP)*100\n",
    "print(f\"Specificity or TNR: {Specificity}%\") \n",
    "print(f\"There is a {Specificity}% chance of detecting delay are not_delay.\")"
   ]
  },
  {
   "cell_type": "markdown",
   "id": "a676aced",
   "metadata": {},
   "source": [
    "# Precision\n",
    "The *precision*, or *positive predictive value*, is the proportion of positive results."
   ]
  },
  {
   "cell_type": "code",
   "execution_count": 36,
   "id": "db3b2f52",
   "metadata": {},
   "outputs": [
    {
     "name": "stdout",
     "output_type": "stream",
     "text": [
      "Precision: 66.21152788292385%\n",
      "You have an not_delay, and the probablity that is correct is 66.21152788292385%\n"
     ]
    }
   ],
   "source": [
    "# Precision or positive predictive value\n",
    "Precision = float(TP)/(TP+FP)*100\n",
    "print(f\"Precision: {Precision}%\")  \n",
    "print(f\"You have an not_delay, and the probablity that is correct is {Precision}%\")"
   ]
  },
  {
   "cell_type": "markdown",
   "id": "070998fb",
   "metadata": {},
   "source": [
    "# Summary\n",
    "In summary, you calculated the following metrics from your model:"
   ]
  },
  {
   "cell_type": "code",
   "execution_count": 30,
   "id": "5656f0d7",
   "metadata": {},
   "outputs": [
    {
     "name": "stdout",
     "output_type": "stream",
     "text": [
      "Sensitivity or TPR: 62.8208374458058%\n",
      "Specificity or TNR: 68.04816621257615%\n",
      "Precision: 66.21152788292385%\n",
      "Accuracy: 0.6543884357637008%\n"
     ]
    }
   ],
   "source": [
    "print(f\"Sensitivity or TPR: {Sensitivity}%\")    \n",
    "print(f\"Specificity or TNR: {Specificity}%\") \n",
    "print(f\"Precision: {Precision}%\")   \n",
    "print(f\"Accuracy: {accuracy}%\")"
   ]
  },
  {
   "cell_type": "markdown",
   "id": "d0c07598",
   "metadata": {},
   "source": [
    "# Calculating the AUC-ROC Curve\n",
    "\n",
    "- The ROC is a probability curve.\n",
    "- The AUC tells you how well the model can distinguish between classes. \n"
   ]
  },
  {
   "cell_type": "code",
   "execution_count": 33,
   "id": "cb2b1643",
   "metadata": {},
   "outputs": [
    {
     "data": {
      "image/png": "[encoded data removed]",
      "text/plain": [
       "<Figure size 640x480 with 2 Axes>"
      ]
     },
     "metadata": {},
     "output_type": "display_data"
    }
   ],
   "source": [
    "fpr, tpr, thresholds = roc_curve(test_labels, y_pred['actual'])\n",
    "\n",
    "finite_indices = np.isfinite(thresholds) \n",
    "fpr_finite = fpr[finite_indices]\n",
    "tpr_finite = tpr[finite_indices]\n",
    "thresholds_finite = thresholds[finite_indices]\n",
    "\n",
    "plt.figure()\n",
    "plt.plot(fpr_finite, tpr_finite, label='ROC curve (area = %0.2f)' % auc(fpr_finite, tpr_finite))\n",
    "plt.plot([0, 1], [0, 1], 'k--')  # Dashed diagonal\n",
    "plt.xlim([0.0, 1.0])\n",
    "plt.ylim([0.0, 1.05])\n",
    "plt.xlabel('False Positive Rate')\n",
    "plt.ylabel('True Positive Rate')\n",
    "plt.title('Receiver operating characteristic')\n",
    "plt.legend(loc=\"lower right\")\n",
    "\n",
    "roc_auc = auc(fpr, tpr)\n",
    "\n",
    "if thresholds_finite.size > 0:\n",
    "    ax2 = plt.gca().twinx()\n",
    "    ax2.plot(fpr_finite, thresholds_finite, markeredgecolor='r', linestyle='dashed', color='r')\n",
    "    ax2.set_ylabel('Threshold', color='r')\n",
    "    ax2.set_ylim([thresholds_finite[-1], thresholds_finite[0]])\n",
    "    ax2.set_xlim([fpr_finite[0], fpr_finite[-1]])\n",
    "\n",
    "plt.show()"
   ]
  },
  {
   "cell_type": "code",
   "execution_count": null,
   "id": "6bbd7fd2",
   "metadata": {},
   "outputs": [],
   "source": []
  }
 ],
 "metadata": {
  "kernelspec": {
   "display_name": "conda_python3",
   "language": "python",
   "name": "conda_python3"
  },
  "language_info": {
   "codemirror_mode": {
    "name": "ipython",
    "version": 3
   },
   "file_extension": ".py",
   "mimetype": "text/x-python",
   "name": "python",
   "nbconvert_exporter": "python",
   "pygments_lexer": "ipython3",
   "version": "3.10.15"
  }
 },
 "nbformat": 4,
 "nbformat_minor": 5
}
