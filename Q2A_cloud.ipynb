{
 "cells": [
  {
   "cell_type": "code",
   "execution_count": 37,
   "id": "612754e9",
   "metadata": {},
   "outputs": [
    {
     "name": "stderr",
     "output_type": "stream",
     "text": [
      "INFO:matplotlib.font_manager:generated new fontManager\n"
     ]
    }
   ],
   "source": [
    "import pandas as pd\n",
    "import numpy as np\n",
    "import matplotlib.pyplot as plt"
   ]
  },
  {
   "cell_type": "code",
   "execution_count": 2,
   "id": "4c7b0d00",
   "metadata": {},
   "outputs": [
    {
     "data": {
      "text/html": [
       "<div>\n",
       "<style scoped>\n",
       "    .dataframe tbody tr th:only-of-type {\n",
       "        vertical-align: middle;\n",
       "    }\n",
       "\n",
       "    .dataframe tbody tr th {\n",
       "        vertical-align: top;\n",
       "    }\n",
       "\n",
       "    .dataframe thead th {\n",
       "        text-align: right;\n",
       "    }\n",
       "</style>\n",
       "<table border=\"1\" class=\"dataframe\">\n",
       "  <thead>\n",
       "    <tr style=\"text-align: right;\">\n",
       "      <th></th>\n",
       "      <th>target</th>\n",
       "      <th>Distance</th>\n",
       "      <th>Month_2</th>\n",
       "      <th>Month_3</th>\n",
       "      <th>Month_4</th>\n",
       "      <th>Month_5</th>\n",
       "      <th>Month_6</th>\n",
       "      <th>Month_7</th>\n",
       "      <th>Month_8</th>\n",
       "      <th>Month_9</th>\n",
       "      <th>...</th>\n",
       "      <th>Dest_DEN</th>\n",
       "      <th>Dest_DFW</th>\n",
       "      <th>Dest_IAH</th>\n",
       "      <th>Dest_LAX</th>\n",
       "      <th>Dest_ORD</th>\n",
       "      <th>Dest_PHX</th>\n",
       "      <th>Dest_SFO</th>\n",
       "      <th>DepHourofDay_Early Morning</th>\n",
       "      <th>DepHourofDay_Afternoon</th>\n",
       "      <th>DepHourofDay_Evening</th>\n",
       "    </tr>\n",
       "  </thead>\n",
       "  <tbody>\n",
       "    <tr>\n",
       "      <th>0</th>\n",
       "      <td>0.0</td>\n",
       "      <td>1464.0</td>\n",
       "      <td>False</td>\n",
       "      <td>False</td>\n",
       "      <td>False</td>\n",
       "      <td>False</td>\n",
       "      <td>False</td>\n",
       "      <td>False</td>\n",
       "      <td>False</td>\n",
       "      <td>False</td>\n",
       "      <td>...</td>\n",
       "      <td>False</td>\n",
       "      <td>False</td>\n",
       "      <td>False</td>\n",
       "      <td>False</td>\n",
       "      <td>False</td>\n",
       "      <td>False</td>\n",
       "      <td>True</td>\n",
       "      <td>True</td>\n",
       "      <td>False</td>\n",
       "      <td>False</td>\n",
       "    </tr>\n",
       "    <tr>\n",
       "      <th>1</th>\n",
       "      <td>1.0</td>\n",
       "      <td>1464.0</td>\n",
       "      <td>False</td>\n",
       "      <td>False</td>\n",
       "      <td>False</td>\n",
       "      <td>False</td>\n",
       "      <td>False</td>\n",
       "      <td>False</td>\n",
       "      <td>False</td>\n",
       "      <td>False</td>\n",
       "      <td>...</td>\n",
       "      <td>False</td>\n",
       "      <td>False</td>\n",
       "      <td>False</td>\n",
       "      <td>False</td>\n",
       "      <td>False</td>\n",
       "      <td>False</td>\n",
       "      <td>True</td>\n",
       "      <td>True</td>\n",
       "      <td>False</td>\n",
       "      <td>False</td>\n",
       "    </tr>\n",
       "    <tr>\n",
       "      <th>2</th>\n",
       "      <td>0.0</td>\n",
       "      <td>1464.0</td>\n",
       "      <td>False</td>\n",
       "      <td>False</td>\n",
       "      <td>False</td>\n",
       "      <td>False</td>\n",
       "      <td>False</td>\n",
       "      <td>False</td>\n",
       "      <td>False</td>\n",
       "      <td>False</td>\n",
       "      <td>...</td>\n",
       "      <td>False</td>\n",
       "      <td>False</td>\n",
       "      <td>False</td>\n",
       "      <td>False</td>\n",
       "      <td>False</td>\n",
       "      <td>False</td>\n",
       "      <td>True</td>\n",
       "      <td>True</td>\n",
       "      <td>False</td>\n",
       "      <td>False</td>\n",
       "    </tr>\n",
       "  </tbody>\n",
       "</table>\n",
       "<p>3 rows × 42 columns</p>\n",
       "</div>"
      ],
      "text/plain": [
       "   target  Distance  Month_2  Month_3  Month_4  Month_5  Month_6  Month_7  \\\n",
       "0     0.0    1464.0    False    False    False    False    False    False   \n",
       "1     1.0    1464.0    False    False    False    False    False    False   \n",
       "2     0.0    1464.0    False    False    False    False    False    False   \n",
       "\n",
       "   Month_8  Month_9  ...  Dest_DEN  Dest_DFW  Dest_IAH  Dest_LAX  Dest_ORD  \\\n",
       "0    False    False  ...     False     False     False     False     False   \n",
       "1    False    False  ...     False     False     False     False     False   \n",
       "2    False    False  ...     False     False     False     False     False   \n",
       "\n",
       "   Dest_PHX  Dest_SFO  DepHourofDay_Early Morning  DepHourofDay_Afternoon  \\\n",
       "0     False      True                        True                   False   \n",
       "1     False      True                        True                   False   \n",
       "2     False      True                        True                   False   \n",
       "\n",
       "   DepHourofDay_Evening  \n",
       "0                 False  \n",
       "1                 False  \n",
       "2                 False  \n",
       "\n",
       "[3 rows x 42 columns]"
      ]
     },
     "execution_count": 2,
     "metadata": {},
     "output_type": "execute_result"
    }
   ],
   "source": [
    "df = pd.read_csv(\"data/combined_csv_v1.csv\")\n",
    "df.head(3)"
   ]
  },
  {
   "cell_type": "code",
   "execution_count": 3,
   "id": "51de9f16",
   "metadata": {},
   "outputs": [],
   "source": [
    "# Convert boolean columns to 0 and 1\n",
    "for col in df.columns:\n",
    "    if df[col].dtype == 'bool':\n",
    "        df[col] = df[col].astype(float)  # Converting True to 1 and False to 0"
   ]
  },
  {
   "cell_type": "code",
   "execution_count": 4,
   "id": "17899303",
   "metadata": {},
   "outputs": [
    {
     "data": {
      "text/plain": [
       "target                        float64\n",
       "Distance                      float64\n",
       "Month_2                       float64\n",
       "Month_3                       float64\n",
       "Month_4                       float64\n",
       "Month_5                       float64\n",
       "Month_6                       float64\n",
       "Month_7                       float64\n",
       "Month_8                       float64\n",
       "Month_9                       float64\n",
       "Month_10                      float64\n",
       "Month_11                      float64\n",
       "Month_12                      float64\n",
       "DayOfWeek_2                   float64\n",
       "DayOfWeek_3                   float64\n",
       "DayOfWeek_4                   float64\n",
       "DayOfWeek_5                   float64\n",
       "DayOfWeek_6                   float64\n",
       "DayOfWeek_7                   float64\n",
       "Reporting_Airline_DL          float64\n",
       "Reporting_Airline_OO          float64\n",
       "Reporting_Airline_UA          float64\n",
       "Reporting_Airline_WN          float64\n",
       "Origin_CLT                    float64\n",
       "Origin_DEN                    float64\n",
       "Origin_DFW                    float64\n",
       "Origin_IAH                    float64\n",
       "Origin_LAX                    float64\n",
       "Origin_ORD                    float64\n",
       "Origin_PHX                    float64\n",
       "Origin_SFO                    float64\n",
       "Dest_CLT                      float64\n",
       "Dest_DEN                      float64\n",
       "Dest_DFW                      float64\n",
       "Dest_IAH                      float64\n",
       "Dest_LAX                      float64\n",
       "Dest_ORD                      float64\n",
       "Dest_PHX                      float64\n",
       "Dest_SFO                      float64\n",
       "DepHourofDay_Early Morning    float64\n",
       "DepHourofDay_Afternoon        float64\n",
       "DepHourofDay_Evening          float64\n",
       "dtype: object"
      ]
     },
     "execution_count": 4,
     "metadata": {},
     "output_type": "execute_result"
    }
   ],
   "source": [
    "df.dtypes"
   ]
  },
  {
   "cell_type": "code",
   "execution_count": 5,
   "id": "13731089",
   "metadata": {},
   "outputs": [],
   "source": [
    "from sklearn.model_selection import train_test_split\n",
    "\n",
    "train, validation = train_test_split(df, test_size=0.3, random_state=42,stratify=df['target'])\n",
    "validation, test = train_test_split(validation, test_size = 0.5,random_state=42)"
   ]
  },
  {
   "cell_type": "code",
   "execution_count": 6,
   "id": "7e6db96a",
   "metadata": {},
   "outputs": [],
   "source": [
    "train.to_csv(\"data/q2a/train.csv\", index = False, header = False)\n",
    "validation.to_csv(\"data/q2a/validation.csv\", index = False, header = False)\n",
    "test.to_csv(\"data/q2a/test.csv\", index = False, header = False)"
   ]
  },
  {
   "cell_type": "code",
   "execution_count": 7,
   "id": "88f68638",
   "metadata": {},
   "outputs": [],
   "source": [
    "test_X =  test.drop(\"target\", axis = 1)\n",
    "test_y = test[\"target\"]\n",
    "test_X.to_csv(\"data/q2a/test.csv\", index = False, header = False)"
   ]
  },
  {
   "cell_type": "code",
   "execution_count": 8,
   "id": "6c5fd62b",
   "metadata": {},
   "outputs": [
    {
     "name": "stdout",
     "output_type": "stream",
     "text": [
      "sagemaker.config INFO - Not applying SDK defaults from location: /etc/xdg/sagemaker/config.yaml\n",
      "sagemaker.config INFO - Not applying SDK defaults from location: /home/ec2-user/.config/sagemaker/config.yaml\n"
     ]
    }
   ],
   "source": [
    "import sagemaker\n",
    "import boto3\n",
    "from sagemaker import image_uris\n",
    "\n",
    "\n",
    "sess = sagemaker.Session()\n",
    "bucket = sess.default_bucket()\n",
    "\n",
    "\n",
    "region = boto3.Session().region_name\n",
    "container = image_uris.retrieve('xgboost', region,version='latest')"
   ]
  },
  {
   "cell_type": "code",
   "execution_count": 9,
   "id": "0f2e7a3b",
   "metadata": {},
   "outputs": [],
   "source": [
    "prefix = \"final_assignment/q2a\"\n",
    "train_path = sess.upload_data(path=\"./data/q2a/train.csv\", key_prefix=prefix + \"/input/training\")\n",
    "valid_path = sess.upload_data(path=\"./data/q2a/validation.csv\", key_prefix=prefix + \"/input/validation\")\n",
    "test_X_path = sess.upload_data(path=\"./data/q2a/test.csv\", key_prefix=prefix + \"/input/test\")"
   ]
  },
  {
   "cell_type": "code",
   "execution_count": 10,
   "id": "4dc25323",
   "metadata": {},
   "outputs": [],
   "source": [
    "from sagemaker.estimator import Estimator\n",
    "\n",
    "\n",
    "xgb_estimator = Estimator(container,\n",
    "                          role=sagemaker.get_execution_role(),\n",
    "                          instance_count=1,\n",
    "                          instance_type='ml.m4.xlarge',\n",
    "                          output_path='s3://{}/{}/output'.format(bucket,prefix))"
   ]
  },
  {
   "cell_type": "code",
   "execution_count": 11,
   "id": "aae93d0e",
   "metadata": {},
   "outputs": [],
   "source": [
    "xgb_estimator.set_hyperparameters(objective='binary:logistic', num_round=15)\n"
   ]
  },
  {
   "cell_type": "code",
   "execution_count": 12,
   "id": "2e7cc945",
   "metadata": {},
   "outputs": [],
   "source": [
    "training_data_channel = sagemaker.TrainingInput(s3_data=train_path, content_type='text/csv')\n",
    "validation_data_channel = sagemaker.TrainingInput(s3_data=valid_path, content_type='text/csv')"
   ]
  },
  {
   "cell_type": "code",
   "execution_count": 13,
   "id": "7b4bc008",
   "metadata": {},
   "outputs": [
    {
     "name": "stderr",
     "output_type": "stream",
     "text": [
      "INFO:sagemaker:Creating training-job with name: xgboost-2024-11-03-03-26-53-155\n"
     ]
    },
    {
     "name": "stdout",
     "output_type": "stream",
     "text": [
      "2024-11-03 03:26:54 Starting - Starting the training job...\n",
      "2024-11-03 03:27:08 Starting - Preparing the instances for training...\n",
      "2024-11-03 03:27:30 Downloading - Downloading input data...\n",
      "2024-11-03 03:28:05 Downloading - Downloading the training image...\n",
      "2024-11-03 03:28:51 Training - Training image download completed. Training in progress...\u001b[34mArguments: train\u001b[0m\n",
      "\u001b[34m[2024-11-03:03:29:04:INFO] Running standalone xgboost training.\u001b[0m\n",
      "\u001b[34m[2024-11-03:03:29:04:INFO] File size need to be processed in the node: 225.9mb. Available memory size in the node: 8448.73mb\u001b[0m\n",
      "\u001b[34m[2024-11-03:03:29:04:INFO] Determined delimiter of CSV input is ','\u001b[0m\n",
      "\u001b[34m[03:29:04] S3DistributionType set as FullyReplicated\u001b[0m\n",
      "\u001b[34m[03:29:06] 1144913x41 matrix with 46941433 entries loaded from /opt/ml/input/data/train?format=csv&label_column=0&delimiter=,\u001b[0m\n",
      "\u001b[34m[2024-11-03:03:29:06:INFO] Determined delimiter of CSV input is ','\u001b[0m\n",
      "\u001b[34m[03:29:06] S3DistributionType set as FullyReplicated\u001b[0m\n",
      "\u001b[34m[03:29:06] 245338x41 matrix with 10058858 entries loaded from /opt/ml/input/data/validation?format=csv&label_column=0&delimiter=,\u001b[0m\n",
      "\u001b[34m[03:29:08] src/tree/updater_prune.cc:74: tree pruning end, 1 roots, 116 extra nodes, 0 pruned nodes, max_depth=6\u001b[0m\n",
      "\u001b[34m[0]#011train-error:0.209593#011validation-error:0.20987\u001b[0m\n",
      "\u001b[34m[03:29:09] src/tree/updater_prune.cc:74: tree pruning end, 1 roots, 118 extra nodes, 0 pruned nodes, max_depth=6\u001b[0m\n",
      "\u001b[34m[1]#011train-error:0.209489#011validation-error:0.20976\u001b[0m\n",
      "\u001b[34m[03:29:11] src/tree/updater_prune.cc:74: tree pruning end, 1 roots, 114 extra nodes, 0 pruned nodes, max_depth=6\u001b[0m\n",
      "\u001b[34m[2]#011train-error:0.209704#011validation-error:0.209666\u001b[0m\n",
      "\u001b[34m[03:29:12] src/tree/updater_prune.cc:74: tree pruning end, 1 roots, 124 extra nodes, 0 pruned nodes, max_depth=6\u001b[0m\n",
      "\u001b[34m[3]#011train-error:0.209759#011validation-error:0.209719\u001b[0m\n",
      "\u001b[34m[03:29:13] src/tree/updater_prune.cc:74: tree pruning end, 1 roots, 124 extra nodes, 0 pruned nodes, max_depth=6\u001b[0m\n",
      "\u001b[34m[4]#011train-error:0.209648#011validation-error:0.209788\u001b[0m\n",
      "\u001b[34m[03:29:14] src/tree/updater_prune.cc:74: tree pruning end, 1 roots, 126 extra nodes, 0 pruned nodes, max_depth=6\u001b[0m\n",
      "\u001b[34m[5]#011train-error:0.209654#011validation-error:0.209682\u001b[0m\n",
      "\u001b[34m[03:29:15] src/tree/updater_prune.cc:74: tree pruning end, 1 roots, 124 extra nodes, 0 pruned nodes, max_depth=6\u001b[0m\n",
      "\u001b[34m[6]#011train-error:0.209553#011validation-error:0.209637\u001b[0m\n",
      "\u001b[34m[03:29:16] src/tree/updater_prune.cc:74: tree pruning end, 1 roots, 124 extra nodes, 0 pruned nodes, max_depth=6\u001b[0m\n",
      "\u001b[34m[7]#011train-error:0.209535#011validation-error:0.209641\u001b[0m\n",
      "\u001b[34m[03:29:17] src/tree/updater_prune.cc:74: tree pruning end, 1 roots, 124 extra nodes, 0 pruned nodes, max_depth=6\u001b[0m\n",
      "\u001b[34m[8]#011train-error:0.209512#011validation-error:0.209625\u001b[0m\n",
      "\u001b[34m[03:29:18] src/tree/updater_prune.cc:74: tree pruning end, 1 roots, 126 extra nodes, 0 pruned nodes, max_depth=6\u001b[0m\n",
      "\u001b[34m[9]#011train-error:0.209535#011validation-error:0.209629\u001b[0m\n",
      "\u001b[34m[03:29:19] src/tree/updater_prune.cc:74: tree pruning end, 1 roots, 126 extra nodes, 0 pruned nodes, max_depth=6\u001b[0m\n",
      "\u001b[34m[10]#011train-error:0.209497#011validation-error:0.209629\u001b[0m\n",
      "\u001b[34m[03:29:20] src/tree/updater_prune.cc:74: tree pruning end, 1 roots, 124 extra nodes, 0 pruned nodes, max_depth=6\u001b[0m\n",
      "\u001b[34m[11]#011train-error:0.209438#011validation-error:0.209572\u001b[0m\n",
      "\u001b[34m[03:29:21] src/tree/updater_prune.cc:74: tree pruning end, 1 roots, 122 extra nodes, 0 pruned nodes, max_depth=6\u001b[0m\n",
      "\u001b[34m[12]#011train-error:0.209366#011validation-error:0.209458\u001b[0m\n",
      "\u001b[34m[03:29:22] src/tree/updater_prune.cc:74: tree pruning end, 1 roots, 124 extra nodes, 0 pruned nodes, max_depth=6\u001b[0m\n",
      "\u001b[34m[13]#011train-error:0.20937#011validation-error:0.209474\u001b[0m\n",
      "\u001b[34m[03:29:23] src/tree/updater_prune.cc:74: tree pruning end, 1 roots, 126 extra nodes, 0 pruned nodes, max_depth=6\u001b[0m\n",
      "\u001b[34m[14]#011train-error:0.209296#011validation-error:0.209401\u001b[0m\n",
      "\n",
      "2024-11-03 03:29:44 Uploading - Uploading generated training model\n",
      "2024-11-03 03:29:44 Completed - Training job completed\n",
      "Training seconds: 134\n",
      "Billable seconds: 134\n"
     ]
    }
   ],
   "source": [
    "xgb_estimator.fit({'train': training_data_channel,'validation': validation_data_channel})\n"
   ]
  },
  {
   "cell_type": "code",
   "execution_count": 15,
   "id": "b1b479a7",
   "metadata": {},
   "outputs": [
    {
     "name": "stderr",
     "output_type": "stream",
     "text": [
      "INFO:sagemaker:Creating model with name: xgboost-2024-11-03-03-32-05-851\n",
      "INFO:sagemaker:Creating endpoint-config with name xgboost-2024-11-03-03-32-05-851\n",
      "INFO:sagemaker:Creating endpoint with name xgboost-2024-11-03-03-32-05-851\n"
     ]
    },
    {
     "name": "stdout",
     "output_type": "stream",
     "text": [
      "------!"
     ]
    }
   ],
   "source": [
    "xgb_predictor = xgb_estimator.deploy(initial_instance_count=1,\n",
    "                serializer = sagemaker.serializers.CSVSerializer(),\n",
    "                instance_type='ml.m4.xlarge')"
   ]
  },
  {
   "cell_type": "code",
   "execution_count": 17,
   "id": "f4dab270",
   "metadata": {},
   "outputs": [
    {
     "data": {
      "text/plain": [
       "(245339, 42)"
      ]
     },
     "execution_count": 17,
     "metadata": {},
     "output_type": "execute_result"
    }
   ],
   "source": [
    "test.shape"
   ]
  },
  {
   "cell_type": "code",
   "execution_count": 18,
   "id": "0300e3ff",
   "metadata": {},
   "outputs": [
    {
     "name": "stderr",
     "output_type": "stream",
     "text": [
      "INFO:sagemaker:Creating model with name: xgboost-2024-11-03-03-36-32-681\n"
     ]
    }
   ],
   "source": [
    "\n",
    "xgb_transformer = xgb_estimator.transformer(\n",
    "    instance_count=1,\n",
    "    instance_type=\"ml.m4.xlarge\",\n",
    "    strategy=\"MultiRecord\",\n",
    "    assemble_with=\"Line\",\n",
    "    output_path=f\"s3://{bucket}/{prefix}/batch_output\"\n",
    ")"
   ]
  },
  {
   "cell_type": "code",
   "execution_count": 19,
   "id": "b185bf42",
   "metadata": {},
   "outputs": [
    {
     "name": "stderr",
     "output_type": "stream",
     "text": [
      "INFO:sagemaker:Creating transform job with name: xgboost-2024-11-03-03-36-35-500\n"
     ]
    },
    {
     "name": "stdout",
     "output_type": "stream",
     "text": [
      "....................................\n",
      "\u001b[34mArguments: serve\u001b[0m\n",
      "\u001b[35mArguments: serve\u001b[0m\n",
      "\u001b[34m[2024-11-03 03:42:34 +0000] [1] [INFO] Starting gunicorn 19.9.0\u001b[0m\n",
      "\u001b[34m[2024-11-03 03:42:34 +0000] [1] [INFO] Listening at: http://0.0.0.0:8080 (1)\u001b[0m\n",
      "\u001b[34m[2024-11-03 03:42:34 +0000] [1] [INFO] Using worker: gevent\u001b[0m\n",
      "\u001b[34m[2024-11-03 03:42:34 +0000] [21] [INFO] Booting worker with pid: 21\u001b[0m\n",
      "\u001b[34m[2024-11-03 03:42:35 +0000] [22] [INFO] Booting worker with pid: 22\u001b[0m\n",
      "\u001b[34m/opt/amazon/lib/python3.7/site-packages/gunicorn/workers/ggevent.py:65: MonkeyPatchWarning: Monkey-patching ssl after ssl has already been imported may lead to errors, including RecursionError on Python 3.6. It may also silently lead to incorrect behaviour on Python 3.7. Please monkey-patch earlier. See https://github.com/gevent/gevent/issues/1016. Modules that had direct imports (NOT patched): ['urllib3.util.ssl_ (/opt/amazon/lib/python3.7/site-packages/urllib3/util/ssl_.py)', 'urllib3.util (/opt/amazon/lib/python3.7/site-packages/urllib3/util/__init__.py)']. \n",
      "  monkey.patch_all(subprocess=True)\u001b[0m\n",
      "\u001b[34m[2024-11-03:03:42:35:INFO] Model loaded successfully for worker : 21\u001b[0m\n",
      "\u001b[35m[2024-11-03 03:42:34 +0000] [1] [INFO] Starting gunicorn 19.9.0\u001b[0m\n",
      "\u001b[35m[2024-11-03 03:42:34 +0000] [1] [INFO] Listening at: http://0.0.0.0:8080 (1)\u001b[0m\n",
      "\u001b[35m[2024-11-03 03:42:34 +0000] [1] [INFO] Using worker: gevent\u001b[0m\n",
      "\u001b[35m[2024-11-03 03:42:34 +0000] [21] [INFO] Booting worker with pid: 21\u001b[0m\n",
      "\u001b[35m[2024-11-03 03:42:35 +0000] [22] [INFO] Booting worker with pid: 22\u001b[0m\n",
      "\u001b[35m/opt/amazon/lib/python3.7/site-packages/gunicorn/workers/ggevent.py:65: MonkeyPatchWarning: Monkey-patching ssl after ssl has already been imported may lead to errors, including RecursionError on Python 3.6. It may also silently lead to incorrect behaviour on Python 3.7. Please monkey-patch earlier. See https://github.com/gevent/gevent/issues/1016. Modules that had direct imports (NOT patched): ['urllib3.util.ssl_ (/opt/amazon/lib/python3.7/site-packages/urllib3/util/ssl_.py)', 'urllib3.util (/opt/amazon/lib/python3.7/site-packages/urllib3/util/__init__.py)']. \n",
      "  monkey.patch_all(subprocess=True)\u001b[0m\n",
      "\u001b[35m[2024-11-03:03:42:35:INFO] Model loaded successfully for worker : 21\u001b[0m\n",
      "\u001b[34m/opt/amazon/lib/python3.7/site-packages/gunicorn/workers/ggevent.py:65: MonkeyPatchWarning: Monkey-patching ssl after ssl has already been imported may lead to errors, including RecursionError on Python 3.6. It may also silently lead to incorrect behaviour on Python 3.7. Please monkey-patch earlier. See https://github.com/gevent/gevent/issues/1016. Modules that had direct imports (NOT patched): ['urllib3.util.ssl_ (/opt/amazon/lib/python3.7/site-packages/urllib3/util/ssl_.py)', 'urllib3.util (/opt/amazon/lib/python3.7/site-packages/urllib3/util/__init__.py)']. \n",
      "  monkey.patch_all(subprocess=True)\u001b[0m\n",
      "\u001b[34m[2024-11-03:03:42:35:INFO] Model loaded successfully for worker : 22\u001b[0m\n",
      "\u001b[34m[2024-11-03 03:42:35 +0000] [23] [INFO] Booting worker with pid: 23\u001b[0m\n",
      "\u001b[34m/opt/amazon/lib/python3.7/site-packages/gunicorn/workers/ggevent.py:65: MonkeyPatchWarning: Monkey-patching ssl after ssl has already been imported may lead to errors, including RecursionError on Python 3.6. It may also silently lead to incorrect behaviour on Python 3.7. Please monkey-patch earlier. See https://github.com/gevent/gevent/issues/1016. Modules that had direct imports (NOT patched): ['urllib3.util.ssl_ (/opt/amazon/lib/python3.7/site-packages/urllib3/util/ssl_.py)', 'urllib3.util (/opt/amazon/lib/python3.7/site-packages/urllib3/util/__init__.py)']. \n",
      "  monkey.patch_all(subprocess=True)\u001b[0m\n",
      "\u001b[34m[2024-11-03:03:42:35:INFO] Model loaded successfully for worker : 23\u001b[0m\n",
      "\u001b[34m[2024-11-03 03:42:35 +0000] [24] [INFO] Booting worker with pid: 24\u001b[0m\n",
      "\u001b[34m/opt/amazon/lib/python3.7/site-packages/gunicorn/workers/ggevent.py:65: MonkeyPatchWarning: Monkey-patching ssl after ssl has already been imported may lead to errors, including RecursionError on Python 3.6. It may also silently lead to incorrect behaviour on Python 3.7. Please monkey-patch earlier. See https://github.com/gevent/gevent/issues/1016. Modules that had direct imports (NOT patched): ['urllib3.util.ssl_ (/opt/amazon/lib/python3.7/site-packages/urllib3/util/ssl_.py)', 'urllib3.util (/opt/amazon/lib/python3.7/site-packages/urllib3/util/__init__.py)']. \n",
      "  monkey.patch_all(subprocess=True)\u001b[0m\n",
      "\u001b[34m[2024-11-03:03:42:35:INFO] Model loaded successfully for worker : 24\u001b[0m\n",
      "\u001b[35m/opt/amazon/lib/python3.7/site-packages/gunicorn/workers/ggevent.py:65: MonkeyPatchWarning: Monkey-patching ssl after ssl has already been imported may lead to errors, including RecursionError on Python 3.6. It may also silently lead to incorrect behaviour on Python 3.7. Please monkey-patch earlier. See https://github.com/gevent/gevent/issues/1016. Modules that had direct imports (NOT patched): ['urllib3.util.ssl_ (/opt/amazon/lib/python3.7/site-packages/urllib3/util/ssl_.py)', 'urllib3.util (/opt/amazon/lib/python3.7/site-packages/urllib3/util/__init__.py)']. \n",
      "  monkey.patch_all(subprocess=True)\u001b[0m\n",
      "\u001b[35m[2024-11-03:03:42:35:INFO] Model loaded successfully for worker : 22\u001b[0m\n",
      "\u001b[35m[2024-11-03 03:42:35 +0000] [23] [INFO] Booting worker with pid: 23\u001b[0m\n",
      "\u001b[35m/opt/amazon/lib/python3.7/site-packages/gunicorn/workers/ggevent.py:65: MonkeyPatchWarning: Monkey-patching ssl after ssl has already been imported may lead to errors, including RecursionError on Python 3.6. It may also silently lead to incorrect behaviour on Python 3.7. Please monkey-patch earlier. See https://github.com/gevent/gevent/issues/1016. Modules that had direct imports (NOT patched): ['urllib3.util.ssl_ (/opt/amazon/lib/python3.7/site-packages/urllib3/util/ssl_.py)', 'urllib3.util (/opt/amazon/lib/python3.7/site-packages/urllib3/util/__init__.py)']. \n",
      "  monkey.patch_all(subprocess=True)\u001b[0m\n",
      "\u001b[35m[2024-11-03:03:42:35:INFO] Model loaded successfully for worker : 23\u001b[0m\n",
      "\u001b[35m[2024-11-03 03:42:35 +0000] [24] [INFO] Booting worker with pid: 24\u001b[0m\n",
      "\u001b[35m/opt/amazon/lib/python3.7/site-packages/gunicorn/workers/ggevent.py:65: MonkeyPatchWarning: Monkey-patching ssl after ssl has already been imported may lead to errors, including RecursionError on Python 3.6. It may also silently lead to incorrect behaviour on Python 3.7. Please monkey-patch earlier. See https://github.com/gevent/gevent/issues/1016. Modules that had direct imports (NOT patched): ['urllib3.util.ssl_ (/opt/amazon/lib/python3.7/site-packages/urllib3/util/ssl_.py)', 'urllib3.util (/opt/amazon/lib/python3.7/site-packages/urllib3/util/__init__.py)']. \n",
      "  monkey.patch_all(subprocess=True)\u001b[0m\n",
      "\u001b[35m[2024-11-03:03:42:35:INFO] Model loaded successfully for worker : 24\u001b[0m\n",
      "\u001b[34m[2024-11-03:03:42:39:INFO] Sniff delimiter as ','\u001b[0m\n",
      "\u001b[34m[2024-11-03:03:42:39:INFO] Determined delimiter of CSV input is ','\u001b[0m\n",
      "\u001b[34m[2024-11-03:03:42:39:INFO] Sniff delimiter as ','\u001b[0m\n",
      "\u001b[34m[2024-11-03:03:42:39:INFO] Determined delimiter of CSV input is ','\u001b[0m\n",
      "\u001b[35m[2024-11-03:03:42:39:INFO] Sniff delimiter as ','\u001b[0m\n",
      "\u001b[35m[2024-11-03:03:42:39:INFO] Determined delimiter of CSV input is ','\u001b[0m\n",
      "\u001b[35m[2024-11-03:03:42:39:INFO] Sniff delimiter as ','\u001b[0m\n",
      "\u001b[35m[2024-11-03:03:42:39:INFO] Determined delimiter of CSV input is ','\u001b[0m\n",
      "\u001b[32m2024-11-03T03:42:38.309:[sagemaker logs]: MaxConcurrentTransforms=4, MaxPayloadInMB=6, BatchStrategy=MULTI_RECORD\u001b[0m\n",
      "\u001b[34m[2024-11-03:03:42:39:INFO] Sniff delimiter as ','\u001b[0m\n",
      "\u001b[34m[2024-11-03:03:42:39:INFO] Determined delimiter of CSV input is ','\u001b[0m\n",
      "\u001b[34m[2024-11-03:03:42:39:INFO] Sniff delimiter as ','\u001b[0m\n",
      "\u001b[34m[2024-11-03:03:42:39:INFO] Determined delimiter of CSV input is ','\u001b[0m\n",
      "\u001b[35m[2024-11-03:03:42:39:INFO] Sniff delimiter as ','\u001b[0m\n",
      "\u001b[35m[2024-11-03:03:42:39:INFO] Determined delimiter of CSV input is ','\u001b[0m\n",
      "\u001b[35m[2024-11-03:03:42:39:INFO] Sniff delimiter as ','\u001b[0m\n",
      "\u001b[35m[2024-11-03:03:42:39:INFO] Determined delimiter of CSV input is ','\u001b[0m\n",
      "\u001b[34m[2024-11-03:03:42:41:INFO] Sniff delimiter as ','\u001b[0m\n",
      "\u001b[34m[2024-11-03:03:42:41:INFO] Determined delimiter of CSV input is ','\u001b[0m\n",
      "\u001b[34m[2024-11-03:03:42:41:INFO] Sniff delimiter as ','\u001b[0m\n",
      "\u001b[34m[2024-11-03:03:42:41:INFO] Determined delimiter of CSV input is ','\u001b[0m\n",
      "\u001b[34m[2024-11-03:03:42:41:INFO] Sniff delimiter as ','\u001b[0m\n",
      "\u001b[34m[2024-11-03:03:42:41:INFO] Determined delimiter of CSV input is ','\u001b[0m\n",
      "\u001b[35m[2024-11-03:03:42:41:INFO] Sniff delimiter as ','\u001b[0m\n",
      "\u001b[35m[2024-11-03:03:42:41:INFO] Determined delimiter of CSV input is ','\u001b[0m\n",
      "\u001b[35m[2024-11-03:03:42:41:INFO] Sniff delimiter as ','\u001b[0m\n",
      "\u001b[35m[2024-11-03:03:42:41:INFO] Determined delimiter of CSV input is ','\u001b[0m\n",
      "\u001b[35m[2024-11-03:03:42:41:INFO] Sniff delimiter as ','\u001b[0m\n",
      "\u001b[35m[2024-11-03:03:42:41:INFO] Determined delimiter of CSV input is ','\u001b[0m\n",
      "\u001b[34mArguments: serve\u001b[0m\n",
      "\u001b[35mArguments: serve\u001b[0m\n",
      "\u001b[34m[2024-11-03 03:42:34 +0000] [1] [INFO] Starting gunicorn 19.9.0\u001b[0m\n",
      "\u001b[34m[2024-11-03 03:42:34 +0000] [1] [INFO] Listening at: http://0.0.0.0:8080 (1)\u001b[0m\n",
      "\u001b[34m[2024-11-03 03:42:34 +0000] [1] [INFO] Using worker: gevent\u001b[0m\n",
      "\u001b[34m[2024-11-03 03:42:34 +0000] [21] [INFO] Booting worker with pid: 21\u001b[0m\n",
      "\u001b[34m[2024-11-03 03:42:35 +0000] [22] [INFO] Booting worker with pid: 22\u001b[0m\n",
      "\u001b[34m/opt/amazon/lib/python3.7/site-packages/gunicorn/workers/ggevent.py:65: MonkeyPatchWarning: Monkey-patching ssl after ssl has already been imported may lead to errors, including RecursionError on Python 3.6. It may also silently lead to incorrect behaviour on Python 3.7. Please monkey-patch earlier. See https://github.com/gevent/gevent/issues/1016. Modules that had direct imports (NOT patched): ['urllib3.util.ssl_ (/opt/amazon/lib/python3.7/site-packages/urllib3/util/ssl_.py)', 'urllib3.util (/opt/amazon/lib/python3.7/site-packages/urllib3/util/__init__.py)']. \n",
      "  monkey.patch_all(subprocess=True)\u001b[0m\n",
      "\u001b[34m[2024-11-03:03:42:35:INFO] Model loaded successfully for worker : 21\u001b[0m\n",
      "\u001b[35m[2024-11-03 03:42:34 +0000] [1] [INFO] Starting gunicorn 19.9.0\u001b[0m\n",
      "\u001b[35m[2024-11-03 03:42:34 +0000] [1] [INFO] Listening at: http://0.0.0.0:8080 (1)\u001b[0m\n",
      "\u001b[35m[2024-11-03 03:42:34 +0000] [1] [INFO] Using worker: gevent\u001b[0m\n",
      "\u001b[35m[2024-11-03 03:42:34 +0000] [21] [INFO] Booting worker with pid: 21\u001b[0m\n",
      "\u001b[35m[2024-11-03 03:42:35 +0000] [22] [INFO] Booting worker with pid: 22\u001b[0m\n",
      "\u001b[35m/opt/amazon/lib/python3.7/site-packages/gunicorn/workers/ggevent.py:65: MonkeyPatchWarning: Monkey-patching ssl after ssl has already been imported may lead to errors, including RecursionError on Python 3.6. It may also silently lead to incorrect behaviour on Python 3.7. Please monkey-patch earlier. See https://github.com/gevent/gevent/issues/1016. Modules that had direct imports (NOT patched): ['urllib3.util.ssl_ (/opt/amazon/lib/python3.7/site-packages/urllib3/util/ssl_.py)', 'urllib3.util (/opt/amazon/lib/python3.7/site-packages/urllib3/util/__init__.py)']. \n",
      "  monkey.patch_all(subprocess=True)\u001b[0m\n",
      "\u001b[35m[2024-11-03:03:42:35:INFO] Model loaded successfully for worker : 21\u001b[0m\n",
      "\u001b[34m/opt/amazon/lib/python3.7/site-packages/gunicorn/workers/ggevent.py:65: MonkeyPatchWarning: Monkey-patching ssl after ssl has already been imported may lead to errors, including RecursionError on Python 3.6. It may also silently lead to incorrect behaviour on Python 3.7. Please monkey-patch earlier. See https://github.com/gevent/gevent/issues/1016. Modules that had direct imports (NOT patched): ['urllib3.util.ssl_ (/opt/amazon/lib/python3.7/site-packages/urllib3/util/ssl_.py)', 'urllib3.util (/opt/amazon/lib/python3.7/site-packages/urllib3/util/__init__.py)']. \n",
      "  monkey.patch_all(subprocess=True)\u001b[0m\n",
      "\u001b[34m[2024-11-03:03:42:35:INFO] Model loaded successfully for worker : 22\u001b[0m\n",
      "\u001b[34m[2024-11-03 03:42:35 +0000] [23] [INFO] Booting worker with pid: 23\u001b[0m\n",
      "\u001b[34m/opt/amazon/lib/python3.7/site-packages/gunicorn/workers/ggevent.py:65: MonkeyPatchWarning: Monkey-patching ssl after ssl has already been imported may lead to errors, including RecursionError on Python 3.6. It may also silently lead to incorrect behaviour on Python 3.7. Please monkey-patch earlier. See https://github.com/gevent/gevent/issues/1016. Modules that had direct imports (NOT patched): ['urllib3.util.ssl_ (/opt/amazon/lib/python3.7/site-packages/urllib3/util/ssl_.py)', 'urllib3.util (/opt/amazon/lib/python3.7/site-packages/urllib3/util/__init__.py)']. \n",
      "  monkey.patch_all(subprocess=True)\u001b[0m\n",
      "\u001b[34m[2024-11-03:03:42:35:INFO] Model loaded successfully for worker : 23\u001b[0m\n",
      "\u001b[34m[2024-11-03 03:42:35 +0000] [24] [INFO] Booting worker with pid: 24\u001b[0m\n",
      "\u001b[34m/opt/amazon/lib/python3.7/site-packages/gunicorn/workers/ggevent.py:65: MonkeyPatchWarning: Monkey-patching ssl after ssl has already been imported may lead to errors, including RecursionError on Python 3.6. It may also silently lead to incorrect behaviour on Python 3.7. Please monkey-patch earlier. See https://github.com/gevent/gevent/issues/1016. Modules that had direct imports (NOT patched): ['urllib3.util.ssl_ (/opt/amazon/lib/python3.7/site-packages/urllib3/util/ssl_.py)', 'urllib3.util (/opt/amazon/lib/python3.7/site-packages/urllib3/util/__init__.py)']. \n",
      "  monkey.patch_all(subprocess=True)\u001b[0m\n",
      "\u001b[34m[2024-11-03:03:42:35:INFO] Model loaded successfully for worker : 24\u001b[0m\n",
      "\u001b[35m/opt/amazon/lib/python3.7/site-packages/gunicorn/workers/ggevent.py:65: MonkeyPatchWarning: Monkey-patching ssl after ssl has already been imported may lead to errors, including RecursionError on Python 3.6. It may also silently lead to incorrect behaviour on Python 3.7. Please monkey-patch earlier. See https://github.com/gevent/gevent/issues/1016. Modules that had direct imports (NOT patched): ['urllib3.util.ssl_ (/opt/amazon/lib/python3.7/site-packages/urllib3/util/ssl_.py)', 'urllib3.util (/opt/amazon/lib/python3.7/site-packages/urllib3/util/__init__.py)']. \n",
      "  monkey.patch_all(subprocess=True)\u001b[0m\n",
      "\u001b[35m[2024-11-03:03:42:35:INFO] Model loaded successfully for worker : 22\u001b[0m\n",
      "\u001b[35m[2024-11-03 03:42:35 +0000] [23] [INFO] Booting worker with pid: 23\u001b[0m\n",
      "\u001b[35m/opt/amazon/lib/python3.7/site-packages/gunicorn/workers/ggevent.py:65: MonkeyPatchWarning: Monkey-patching ssl after ssl has already been imported may lead to errors, including RecursionError on Python 3.6. It may also silently lead to incorrect behaviour on Python 3.7. Please monkey-patch earlier. See https://github.com/gevent/gevent/issues/1016. Modules that had direct imports (NOT patched): ['urllib3.util.ssl_ (/opt/amazon/lib/python3.7/site-packages/urllib3/util/ssl_.py)', 'urllib3.util (/opt/amazon/lib/python3.7/site-packages/urllib3/util/__init__.py)']. \n",
      "  monkey.patch_all(subprocess=True)\u001b[0m\n",
      "\u001b[35m[2024-11-03:03:42:35:INFO] Model loaded successfully for worker : 23\u001b[0m\n",
      "\u001b[35m[2024-11-03 03:42:35 +0000] [24] [INFO] Booting worker with pid: 24\u001b[0m\n",
      "\u001b[35m/opt/amazon/lib/python3.7/site-packages/gunicorn/workers/ggevent.py:65: MonkeyPatchWarning: Monkey-patching ssl after ssl has already been imported may lead to errors, including RecursionError on Python 3.6. It may also silently lead to incorrect behaviour on Python 3.7. Please monkey-patch earlier. See https://github.com/gevent/gevent/issues/1016. Modules that had direct imports (NOT patched): ['urllib3.util.ssl_ (/opt/amazon/lib/python3.7/site-packages/urllib3/util/ssl_.py)', 'urllib3.util (/opt/amazon/lib/python3.7/site-packages/urllib3/util/__init__.py)']. \n",
      "  monkey.patch_all(subprocess=True)\u001b[0m\n",
      "\u001b[35m[2024-11-03:03:42:35:INFO] Model loaded successfully for worker : 24\u001b[0m\n",
      "\u001b[34m[2024-11-03:03:42:39:INFO] Sniff delimiter as ','\u001b[0m\n",
      "\u001b[34m[2024-11-03:03:42:39:INFO] Determined delimiter of CSV input is ','\u001b[0m\n",
      "\u001b[34m[2024-11-03:03:42:39:INFO] Sniff delimiter as ','\u001b[0m\n",
      "\u001b[34m[2024-11-03:03:42:39:INFO] Determined delimiter of CSV input is ','\u001b[0m\n",
      "\u001b[35m[2024-11-03:03:42:39:INFO] Sniff delimiter as ','\u001b[0m\n",
      "\u001b[35m[2024-11-03:03:42:39:INFO] Determined delimiter of CSV input is ','\u001b[0m\n",
      "\u001b[35m[2024-11-03:03:42:39:INFO] Sniff delimiter as ','\u001b[0m\n",
      "\u001b[35m[2024-11-03:03:42:39:INFO] Determined delimiter of CSV input is ','\u001b[0m\n",
      "\u001b[32m2024-11-03T03:42:38.309:[sagemaker logs]: MaxConcurrentTransforms=4, MaxPayloadInMB=6, BatchStrategy=MULTI_RECORD\u001b[0m\n",
      "\u001b[34m[2024-11-03:03:42:39:INFO] Sniff delimiter as ','\u001b[0m\n",
      "\u001b[34m[2024-11-03:03:42:39:INFO] Determined delimiter of CSV input is ','\u001b[0m\n",
      "\u001b[34m[2024-11-03:03:42:39:INFO] Sniff delimiter as ','\u001b[0m\n",
      "\u001b[34m[2024-11-03:03:42:39:INFO] Determined delimiter of CSV input is ','\u001b[0m\n",
      "\u001b[35m[2024-11-03:03:42:39:INFO] Sniff delimiter as ','\u001b[0m\n",
      "\u001b[35m[2024-11-03:03:42:39:INFO] Determined delimiter of CSV input is ','\u001b[0m\n",
      "\u001b[35m[2024-11-03:03:42:39:INFO] Sniff delimiter as ','\u001b[0m\n",
      "\u001b[35m[2024-11-03:03:42:39:INFO] Determined delimiter of CSV input is ','\u001b[0m\n",
      "\u001b[34m[2024-11-03:03:42:41:INFO] Sniff delimiter as ','\u001b[0m\n",
      "\u001b[34m[2024-11-03:03:42:41:INFO] Determined delimiter of CSV input is ','\u001b[0m\n",
      "\u001b[34m[2024-11-03:03:42:41:INFO] Sniff delimiter as ','\u001b[0m\n",
      "\u001b[34m[2024-11-03:03:42:41:INFO] Determined delimiter of CSV input is ','\u001b[0m\n",
      "\u001b[34m[2024-11-03:03:42:41:INFO] Sniff delimiter as ','\u001b[0m\n",
      "\u001b[34m[2024-11-03:03:42:41:INFO] Determined delimiter of CSV input is ','\u001b[0m\n",
      "\u001b[35m[2024-11-03:03:42:41:INFO] Sniff delimiter as ','\u001b[0m\n",
      "\u001b[35m[2024-11-03:03:42:41:INFO] Determined delimiter of CSV input is ','\u001b[0m\n",
      "\u001b[35m[2024-11-03:03:42:41:INFO] Sniff delimiter as ','\u001b[0m\n",
      "\u001b[35m[2024-11-03:03:42:41:INFO] Determined delimiter of CSV input is ','\u001b[0m\n",
      "\u001b[35m[2024-11-03:03:42:41:INFO] Sniff delimiter as ','\u001b[0m\n",
      "\u001b[35m[2024-11-03:03:42:41:INFO] Determined delimiter of CSV input is ','\u001b[0m\n"
     ]
    }
   ],
   "source": [
    "xgb_transformer.transform(test_X_path, content_type=\"text/csv\", split_type=\"Line\")\n",
    "xgb_transformer.wait()"
   ]
  },
  {
   "cell_type": "code",
   "execution_count": 20,
   "id": "3999c02c",
   "metadata": {},
   "outputs": [
    {
     "name": "stdout",
     "output_type": "stream",
     "text": [
      "final_assignment/q2a/batch_output/test.csv.out\n",
      "final_assignment/q2a/input/test/test.csv\n",
      "final_assignment/q2a/input/training/train.csv\n",
      "final_assignment/q2a/input/validation/validation.csv\n",
      "final_assignment/q2a/output/xgboost-2024-11-03-03-26-53-155/debug-output/training_job_end.ts\n",
      "final_assignment/q2a/output/xgboost-2024-11-03-03-26-53-155/output/model.tar.gz\n",
      "final_assignment/q2a/output/xgboost-2024-11-03-03-26-53-155/profiler-output/framework/training_job_end.ts\n",
      "final_assignment/q2a/output/xgboost-2024-11-03-03-26-53-155/profiler-output/system/incremental/2024110303/1730604420.algo-1.json\n",
      "final_assignment/q2a/output/xgboost-2024-11-03-03-26-53-155/profiler-output/system/incremental/2024110303/1730604480.algo-1.json\n",
      "final_assignment/q2a/output/xgboost-2024-11-03-03-26-53-155/profiler-output/system/incremental/2024110303/1730604540.algo-1.json\n",
      "final_assignment/q2a/output/xgboost-2024-11-03-03-26-53-155/profiler-output/system/training_job_end.ts\n"
     ]
    }
   ],
   "source": [
    "import boto3\n",
    "\n",
    "s3 = boto3.client(\"s3\")\n",
    "response = s3.list_objects_v2(Bucket=bucket, Prefix=prefix)\n",
    "if 'Contents' in response:\n",
    "    for obj in response['Contents']:\n",
    "        print(obj['Key'])\n",
    "else:\n",
    "    print(\"No objects found in the specified prefix.\")"
   ]
  },
  {
   "cell_type": "code",
   "execution_count": 22,
   "id": "2f0ff3ef",
   "metadata": {},
   "outputs": [],
   "source": [
    "import io\n",
    "\n",
    "y_file = boto3.client(\"s3\").get_object(Bucket = bucket, Key = \"final_assignment/q2a/batch_output/test.csv.out\")\n",
    "\n",
    "y_pred = pd.read_csv(io.BytesIO(y_file[\"Body\"].read()), header = None, names = [\"Predicted\"])"
   ]
  },
  {
   "cell_type": "code",
   "execution_count": 23,
   "id": "55208e27",
   "metadata": {},
   "outputs": [],
   "source": [
    "y_pred[\"actual\"] = y_pred[\"Predicted\"].apply(lambda x : 1 if x > 0.5 else 0)"
   ]
  },
  {
   "cell_type": "markdown",
   "id": "71e14145",
   "metadata": {},
   "source": [
    "# Accuracy Score\n"
   ]
  },
  {
   "cell_type": "code",
   "execution_count": 24,
   "id": "b4410997",
   "metadata": {},
   "outputs": [
    {
     "name": "stdout",
     "output_type": "stream",
     "text": [
      "Accuracy: 0.7906610852738456\n"
     ]
    }
   ],
   "source": [
    "from sklearn.metrics import accuracy_score\n",
    "\n",
    "\n",
    "accuracy = accuracy_score(test_y, y_pred[\"actual\"])\n",
    "print(\"Accuracy:\", accuracy)"
   ]
  },
  {
   "cell_type": "code",
   "execution_count": 25,
   "id": "599ee132",
   "metadata": {},
   "outputs": [],
   "source": [
    "test_labels = test.iloc[:,0]\n"
   ]
  },
  {
   "cell_type": "code",
   "execution_count": 26,
   "id": "0508c55d",
   "metadata": {},
   "outputs": [
    {
     "data": {
      "text/plain": [
       "1163410    0.0\n",
       "1029565    1.0\n",
       "1317789    0.0\n",
       "930136     1.0\n",
       "1329099    1.0\n",
       "          ... \n",
       "146216     0.0\n",
       "217379     0.0\n",
       "1099763    0.0\n",
       "1515192    0.0\n",
       "1054280    0.0\n",
       "Name: target, Length: 245339, dtype: float64"
      ]
     },
     "execution_count": 26,
     "metadata": {},
     "output_type": "execute_result"
    }
   ],
   "source": [
    "test_labels"
   ]
  },
  {
   "cell_type": "code",
   "execution_count": 27,
   "id": "10a688e7",
   "metadata": {},
   "outputs": [
    {
     "data": {
      "text/html": [
       "<div>\n",
       "<style scoped>\n",
       "    .dataframe tbody tr th:only-of-type {\n",
       "        vertical-align: middle;\n",
       "    }\n",
       "\n",
       "    .dataframe tbody tr th {\n",
       "        vertical-align: top;\n",
       "    }\n",
       "\n",
       "    .dataframe thead th {\n",
       "        text-align: right;\n",
       "    }\n",
       "</style>\n",
       "<table border=\"1\" class=\"dataframe\">\n",
       "  <thead>\n",
       "    <tr style=\"text-align: right;\">\n",
       "      <th></th>\n",
       "      <th>Predicted</th>\n",
       "      <th>actual</th>\n",
       "    </tr>\n",
       "  </thead>\n",
       "  <tbody>\n",
       "    <tr>\n",
       "      <th>0</th>\n",
       "      <td>0.128339</td>\n",
       "      <td>0</td>\n",
       "    </tr>\n",
       "    <tr>\n",
       "      <th>1</th>\n",
       "      <td>0.171214</td>\n",
       "      <td>0</td>\n",
       "    </tr>\n",
       "    <tr>\n",
       "      <th>2</th>\n",
       "      <td>0.178545</td>\n",
       "      <td>0</td>\n",
       "    </tr>\n",
       "    <tr>\n",
       "      <th>3</th>\n",
       "      <td>0.293887</td>\n",
       "      <td>0</td>\n",
       "    </tr>\n",
       "    <tr>\n",
       "      <th>4</th>\n",
       "      <td>0.332872</td>\n",
       "      <td>0</td>\n",
       "    </tr>\n",
       "    <tr>\n",
       "      <th>...</th>\n",
       "      <td>...</td>\n",
       "      <td>...</td>\n",
       "    </tr>\n",
       "    <tr>\n",
       "      <th>245334</th>\n",
       "      <td>0.193505</td>\n",
       "      <td>0</td>\n",
       "    </tr>\n",
       "    <tr>\n",
       "      <th>245335</th>\n",
       "      <td>0.184472</td>\n",
       "      <td>0</td>\n",
       "    </tr>\n",
       "    <tr>\n",
       "      <th>245336</th>\n",
       "      <td>0.292248</td>\n",
       "      <td>0</td>\n",
       "    </tr>\n",
       "    <tr>\n",
       "      <th>245337</th>\n",
       "      <td>0.218220</td>\n",
       "      <td>0</td>\n",
       "    </tr>\n",
       "    <tr>\n",
       "      <th>245338</th>\n",
       "      <td>0.269888</td>\n",
       "      <td>0</td>\n",
       "    </tr>\n",
       "  </tbody>\n",
       "</table>\n",
       "<p>245339 rows × 2 columns</p>\n",
       "</div>"
      ],
      "text/plain": [
       "        Predicted  actual\n",
       "0        0.128339       0\n",
       "1        0.171214       0\n",
       "2        0.178545       0\n",
       "3        0.293887       0\n",
       "4        0.332872       0\n",
       "...           ...     ...\n",
       "245334   0.193505       0\n",
       "245335   0.184472       0\n",
       "245336   0.292248       0\n",
       "245337   0.218220       0\n",
       "245338   0.269888       0\n",
       "\n",
       "[245339 rows x 2 columns]"
      ]
     },
     "execution_count": 27,
     "metadata": {},
     "output_type": "execute_result"
    }
   ],
   "source": [
    "y_pred"
   ]
  },
  {
   "cell_type": "markdown",
   "id": "e938dd5f",
   "metadata": {},
   "source": [
    "# Creating a confusion matrix\n"
   ]
  },
  {
   "cell_type": "code",
   "execution_count": 28,
   "id": "61740710",
   "metadata": {},
   "outputs": [
    {
     "data": {
      "text/html": [
       "<div>\n",
       "<style scoped>\n",
       "    .dataframe tbody tr th:only-of-type {\n",
       "        vertical-align: middle;\n",
       "    }\n",
       "\n",
       "    .dataframe tbody tr th {\n",
       "        vertical-align: top;\n",
       "    }\n",
       "\n",
       "    .dataframe thead th {\n",
       "        text-align: right;\n",
       "    }\n",
       "</style>\n",
       "<table border=\"1\" class=\"dataframe\">\n",
       "  <thead>\n",
       "    <tr style=\"text-align: right;\">\n",
       "      <th></th>\n",
       "      <th>no_delay</th>\n",
       "      <th>delay</th>\n",
       "    </tr>\n",
       "  </thead>\n",
       "  <tbody>\n",
       "    <tr>\n",
       "      <th>no_delay</th>\n",
       "      <td>193533</td>\n",
       "      <td>300</td>\n",
       "    </tr>\n",
       "    <tr>\n",
       "      <th>delay</th>\n",
       "      <td>51059</td>\n",
       "      <td>447</td>\n",
       "    </tr>\n",
       "  </tbody>\n",
       "</table>\n",
       "</div>"
      ],
      "text/plain": [
       "          no_delay  delay\n",
       "no_delay    193533    300\n",
       "delay        51059    447"
      ]
     },
     "execution_count": 28,
     "metadata": {},
     "output_type": "execute_result"
    }
   ],
   "source": [
    "from sklearn.metrics import confusion_matrix\n",
    "\n",
    "matrix = confusion_matrix(test_labels, y_pred['actual'])\n",
    "df_confusion = pd.DataFrame(matrix, index=['no_delay','delay'],columns=['no_delay','delay'])\n",
    "\n",
    "df_confusion"
   ]
  },
  {
   "cell_type": "markdown",
   "id": "06cfc1ed",
   "metadata": {},
   "source": [
    "To start, extract the values from the confusion matrix cells into variables."
   ]
  },
  {
   "cell_type": "code",
   "execution_count": 29,
   "id": "dee0163c",
   "metadata": {},
   "outputs": [
    {
     "name": "stdout",
     "output_type": "stream",
     "text": [
      "True Negative (TN) : 193533\n",
      "False Positive (FP): 300\n",
      "False Negative (FN): 51059\n",
      "True Positive (TP) : 447\n"
     ]
    }
   ],
   "source": [
    "from sklearn.metrics import roc_auc_score, roc_curve, auc\n",
    "\n",
    "TN, FP, FN, TP = confusion_matrix(test_labels, y_pred['actual']).ravel()\n",
    "\n",
    "print(f\"True Negative (TN) : {TN}\")\n",
    "print(f\"False Positive (FP): {FP}\")\n",
    "print(f\"False Negative (FN): {FN}\")\n",
    "print(f\"True Positive (TP) : {TP}\")"
   ]
  },
  {
   "cell_type": "markdown",
   "id": "248935cf",
   "metadata": {},
   "source": [
    "### Sensitivity\n",
    "\n",
    "Sensitivity is also known as *hit rate*, *recall*, or *true positive rate (TPR)*. It measures the proportion of the actual positives that are correctly identified."
   ]
  },
  {
   "cell_type": "code",
   "execution_count": 39,
   "id": "95df1896",
   "metadata": {},
   "outputs": [
    {
     "name": "stdout",
     "output_type": "stream",
     "text": [
      "Sensitivity or TPR: 0.867860055139207%\n",
      "There is a 0.867860055139207% chance of detecting delay have an actual delay\n"
     ]
    }
   ],
   "source": [
    "# Sensitivity, hit rate, recall, or true positive rate\n",
    "Sensitivity  = float(TP)/(TP+FN)*100\n",
    "print(f\"Sensitivity or TPR: {Sensitivity}%\")  \n",
    "print(f\"There is a {Sensitivity}% chance of detecting delay have an actual delay\")"
   ]
  },
  {
   "cell_type": "markdown",
   "id": "9605663d",
   "metadata": {},
   "source": [
    "# Specificity\n",
    "The next statistic is *specificity*, which is also known as the *true negative*. It measures the proportion of the actual negatives that are correctly identified."
   ]
  },
  {
   "cell_type": "code",
   "execution_count": 40,
   "id": "623802b9",
   "metadata": {},
   "outputs": [
    {
     "name": "stdout",
     "output_type": "stream",
     "text": [
      "Specificity or TNR: 99.84522759282474%\n",
      "There is a 99.84522759282474% chance of detecting delay as delay.\n"
     ]
    }
   ],
   "source": [
    "# Specificity or true negative rate\n",
    "Specificity  = float(TN)/(TN+FP)*100\n",
    "print(f\"Specificity or TNR: {Specificity}%\") \n",
    "print(f\"There is a {Specificity}% chance of detecting delay as delay.\")"
   ]
  },
  {
   "cell_type": "markdown",
   "id": "a0cb638a",
   "metadata": {},
   "source": [
    "# Precision\n",
    "The *precision*, or *positive predictive value*, is the proportion of positive results."
   ]
  },
  {
   "cell_type": "code",
   "execution_count": 41,
   "id": "a2330e31",
   "metadata": {},
   "outputs": [
    {
     "name": "stdout",
     "output_type": "stream",
     "text": [
      "Precision: 59.83935742971887%\n",
      "You have an delay, and the probablity that is correct is 59.83935742971887%\n"
     ]
    }
   ],
   "source": [
    "# Precision or positive predictive value\n",
    "Precision = float(TP)/(TP+FP)*100\n",
    "print(f\"Precision: {Precision}%\")  \n",
    "print(f\"You have an delay, and the probablity that is correct is {Precision}%\")"
   ]
  },
  {
   "cell_type": "markdown",
   "id": "a3f4ab39",
   "metadata": {},
   "source": [
    "# Summary\n",
    "In summary, you calculated the following metrics from your model:"
   ]
  },
  {
   "cell_type": "code",
   "execution_count": 33,
   "id": "996ea4a7",
   "metadata": {},
   "outputs": [
    {
     "name": "stdout",
     "output_type": "stream",
     "text": [
      "Sensitivity or TPR: 0.867860055139207%\n",
      "Specificity or TNR: 99.84522759282474%\n",
      "Precision: 59.83935742971887%\n",
      "Accuracy: 0.7906610852738456%\n"
     ]
    }
   ],
   "source": [
    "print(f\"Sensitivity or TPR: {Sensitivity}%\")    \n",
    "print(f\"Specificity or TNR: {Specificity}%\") \n",
    "print(f\"Precision: {Precision}%\")   \n",
    "print(f\"Accuracy: {accuracy}%\")"
   ]
  },
  {
   "cell_type": "markdown",
   "id": "6a2e4d21",
   "metadata": {},
   "source": [
    "# Calculating the AUC-ROC Curve\n",
    "\n",
    "- The ROC is a probability curve.\n",
    "- The AUC tells you how well the model can distinguish between classes. \n"
   ]
  },
  {
   "cell_type": "code",
   "execution_count": 38,
   "id": "ba7406a3",
   "metadata": {},
   "outputs": [
    {
     "data": {
      "image/png": "[encoded data removed]",
      "text/plain": [
       "<Figure size 640x480 with 2 Axes>"
      ]
     },
     "metadata": {},
     "output_type": "display_data"
    }
   ],
   "source": [
    "fpr, tpr, thresholds = roc_curve(test_labels, y_pred['actual'])\n",
    "\n",
    "finite_indices = np.isfinite(thresholds) \n",
    "fpr_finite = fpr[finite_indices]\n",
    "tpr_finite = tpr[finite_indices]\n",
    "thresholds_finite = thresholds[finite_indices]\n",
    "\n",
    "plt.figure()\n",
    "plt.plot(fpr_finite, tpr_finite, label='ROC curve (area = %0.2f)' % auc(fpr_finite, tpr_finite))\n",
    "plt.plot([0, 1], [0, 1], 'k--')  # Dashed diagonal\n",
    "plt.xlim([0.0, 1.0])\n",
    "plt.ylim([0.0, 1.05])\n",
    "plt.xlabel('False Positive Rate')\n",
    "plt.ylabel('True Positive Rate')\n",
    "plt.title('Receiver operating characteristic')\n",
    "plt.legend(loc=\"lower right\")\n",
    "\n",
    "roc_auc = auc(fpr, tpr)\n",
    "\n",
    "if thresholds_finite.size > 0:\n",
    "    ax2 = plt.gca().twinx()\n",
    "    ax2.plot(fpr_finite, thresholds_finite, markeredgecolor='r', linestyle='dashed', color='r')\n",
    "    ax2.set_ylabel('Threshold', color='r')\n",
    "    ax2.set_ylim([thresholds_finite[-1], thresholds_finite[0]])\n",
    "    ax2.set_xlim([fpr_finite[0], fpr_finite[-1]])\n",
    "\n",
    "plt.show()"
   ]
  },
  {
   "cell_type": "code",
   "execution_count": null,
   "id": "5a1c2190",
   "metadata": {},
   "outputs": [],
   "source": []
  }
 ],
 "metadata": {
  "kernelspec": {
   "display_name": "conda_python3",
   "language": "python",
   "name": "conda_python3"
  },
  "language_info": {
   "codemirror_mode": {
    "name": "ipython",
    "version": 3
   },
   "file_extension": ".py",
   "mimetype": "text/x-python",
   "name": "python",
   "nbconvert_exporter": "python",
   "pygments_lexer": "ipython3",
   "version": "3.10.15"
  }
 },
 "nbformat": 4,
 "nbformat_minor": 5
}
